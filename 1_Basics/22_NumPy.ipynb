{
  "cells": [
    {
      "cell_type": "markdown",
      "metadata": {
        "id": "968c1e72"
      },
      "source": [
        "<a target=\"_blank\" href=\"https://colab.research.google.com/github/lukebarousse/Python_Data_Analytics_Course/blob/main/1_Basics/22_NumPy.ipynb\">\n",
        "  <img src=\"https://colab.research.google.com/assets/colab-badge.svg\" alt=\"Open In Colab\"/>\n",
        "</a>"
      ]
    },
    {
      "cell_type": "markdown",
      "metadata": {
        "id": "hto_gSZTKnSA"
      },
      "source": [
        "# NumPy"
      ]
    },
    {
      "cell_type": "markdown",
      "metadata": {
        "id": "Yzx_QA_n_fN7"
      },
      "source": [
        "## Notes\n",
        "\n",
        "* NumPy, which stands for Numerical Python, is foundational for numerical computing in Python， further for data analytics.\n",
        "* Designed for scientific computation and is used extensively for data analysis because of its ability to handle large, multi-dimensional arrays and matrices efficiently.\n",
        "* Serves as the basis for many other Python data science libraries, including Pandas, due to its speed and efficiency in numerical computations.\n",
        "* A few special use cases for NumPy specifically for data analysis:\n",
        "    * Array operations\n",
        "    * Linear algebra\n",
        "    * Statistical functions\n",
        "    * Random number generation\n",
        "\n",
        "## Importance\n",
        "\n",
        "* Important for data analysis.\n",
        "* Way to store data in a structured format, making it easier to organize, access, and manipulate data.\n",
        "* Pandas library is built on top of NumPy.\n",
        "\n",
        "For more information on NumPy check out the official documentation [here](https://numpy.org/doc/1.26/)."
      ]
    },
    {
      "cell_type": "markdown",
      "metadata": {
        "id": "qPseiZXsKv5-"
      },
      "source": [
        "## Array Operations\n",
        "\n",
        "### Notes\n",
        "* Creation: **`import numpy as np; np.array([1, 2, 3])`**\n",
        "* Basic Operations:  `+`, `-`, `/`, `*` performed element-wise\n",
        "* Slicing: **`array[1:3]`**\n",
        "* Boolean Indexing: **`array[array > 0]`**\n",
        "\n",
        "### Examples\n",
        "\n",
        "Let's start with creating a fictional array with the number of years of experience required for five different data science job listings."
      ]
    },
    {
      "cell_type": "code",
      "source": [
        "#create a list of 1000000 salaries ranging from 50000 to 150000\n",
        "import random\n",
        "\n",
        "random.randint(50000, 150000)"
      ],
      "metadata": {
        "colab": {
          "base_uri": "https://localhost:8080/"
        },
        "id": "54zP38waF__d",
        "outputId": "3a340283-01f3-4362-973d-37f59e9a683d"
      },
      "execution_count": 1,
      "outputs": [
        {
          "output_type": "execute_result",
          "data": {
            "text/plain": [
              "129044"
            ]
          },
          "metadata": {},
          "execution_count": 1
        }
      ]
    },
    {
      "cell_type": "code",
      "source": [
        "salary_list = [random.randint(50000,100000) for _in range(1_000_000)]"
      ],
      "metadata": {
        "colab": {
          "base_uri": "https://localhost:8080/",
          "height": 106
        },
        "id": "Av7alOfxHLwC",
        "outputId": "88de4107-9c2d-4713-d8e3-58c878821a0a"
      },
      "execution_count": 2,
      "outputs": [
        {
          "output_type": "error",
          "ename": "SyntaxError",
          "evalue": "invalid syntax. Perhaps you forgot a comma? (ipython-input-2536902449.py, line 1)",
          "traceback": [
            "\u001b[0;36m  File \u001b[0;32m\"/tmp/ipython-input-2536902449.py\"\u001b[0;36m, line \u001b[0;32m1\u001b[0m\n\u001b[0;31m    salary_list = [random.randint(50000,100000) for _in range(1_000_000)]\u001b[0m\n\u001b[0m                                                    ^\u001b[0m\n\u001b[0;31mSyntaxError\u001b[0m\u001b[0;31m:\u001b[0m invalid syntax. Perhaps you forgot a comma?\n"
          ]
        }
      ]
    },
    {
      "cell_type": "code",
      "source": [
        "salary_list = [random.randint(50000,100000) for _ in range(1_000_000)]"
      ],
      "metadata": {
        "id": "McHQKgP7Hi1s"
      },
      "execution_count": 5,
      "outputs": []
    },
    {
      "cell_type": "code",
      "source": [
        "import statistics\n",
        "%%timeit\n",
        "statistics.mean(salary_list)"
      ],
      "metadata": {
        "colab": {
          "base_uri": "https://localhost:8080/",
          "height": 1000
        },
        "collapsed": true,
        "id": "uHL3YJJvHt_Z",
        "outputId": "db93643f-70c9-4ab0-b13b-469e1208d8fd"
      },
      "execution_count": 8,
      "outputs": [
        {
          "output_type": "error",
          "ename": "KeyboardInterrupt",
          "evalue": "",
          "traceback": [
            "\u001b[0;31m---------------------------------------------------------------------------\u001b[0m",
            "\u001b[0;31mKeyboardInterrupt\u001b[0m                         Traceback (most recent call last)",
            "\u001b[0;32m/tmp/ipython-input-3348024553.py\u001b[0m in \u001b[0;36m<cell line: 0>\u001b[0;34m()\u001b[0m\n\u001b[0;32m----> 1\u001b[0;31m \u001b[0mget_ipython\u001b[0m\u001b[0;34m(\u001b[0m\u001b[0;34m)\u001b[0m\u001b[0;34m.\u001b[0m\u001b[0mrun_cell_magic\u001b[0m\u001b[0;34m(\u001b[0m\u001b[0;34m'timeit'\u001b[0m\u001b[0;34m,\u001b[0m \u001b[0;34m''\u001b[0m\u001b[0;34m,\u001b[0m \u001b[0;34m'import statistics\\nstatistics.mean(salary_list)\\n'\u001b[0m\u001b[0;34m)\u001b[0m\u001b[0;34m\u001b[0m\u001b[0;34m\u001b[0m\u001b[0m\n\u001b[0m",
            "\u001b[0;32m/usr/local/lib/python3.12/dist-packages/google/colab/_shell.py\u001b[0m in \u001b[0;36mrun_cell_magic\u001b[0;34m(self, magic_name, line, cell)\u001b[0m\n\u001b[1;32m    274\u001b[0m     \u001b[0;32mif\u001b[0m \u001b[0mline\u001b[0m \u001b[0;32mand\u001b[0m \u001b[0;32mnot\u001b[0m \u001b[0mcell\u001b[0m\u001b[0;34m:\u001b[0m\u001b[0;34m\u001b[0m\u001b[0;34m\u001b[0m\u001b[0m\n\u001b[1;32m    275\u001b[0m       \u001b[0mcell\u001b[0m \u001b[0;34m=\u001b[0m \u001b[0;34m' '\u001b[0m\u001b[0;34m\u001b[0m\u001b[0;34m\u001b[0m\u001b[0m\n\u001b[0;32m--> 276\u001b[0;31m     \u001b[0;32mreturn\u001b[0m \u001b[0msuper\u001b[0m\u001b[0;34m(\u001b[0m\u001b[0;34m)\u001b[0m\u001b[0;34m.\u001b[0m\u001b[0mrun_cell_magic\u001b[0m\u001b[0;34m(\u001b[0m\u001b[0mmagic_name\u001b[0m\u001b[0;34m,\u001b[0m \u001b[0mline\u001b[0m\u001b[0;34m,\u001b[0m \u001b[0mcell\u001b[0m\u001b[0;34m)\u001b[0m\u001b[0;34m\u001b[0m\u001b[0;34m\u001b[0m\u001b[0m\n\u001b[0m\u001b[1;32m    277\u001b[0m \u001b[0;34m\u001b[0m\u001b[0m\n\u001b[1;32m    278\u001b[0m \u001b[0;34m\u001b[0m\u001b[0m\n",
            "\u001b[0;32m/usr/local/lib/python3.12/dist-packages/IPython/core/interactiveshell.py\u001b[0m in \u001b[0;36mrun_cell_magic\u001b[0;34m(self, magic_name, line, cell)\u001b[0m\n\u001b[1;32m   2471\u001b[0m             \u001b[0;32mwith\u001b[0m \u001b[0mself\u001b[0m\u001b[0;34m.\u001b[0m\u001b[0mbuiltin_trap\u001b[0m\u001b[0;34m:\u001b[0m\u001b[0;34m\u001b[0m\u001b[0;34m\u001b[0m\u001b[0m\n\u001b[1;32m   2472\u001b[0m                 \u001b[0margs\u001b[0m \u001b[0;34m=\u001b[0m \u001b[0;34m(\u001b[0m\u001b[0mmagic_arg_s\u001b[0m\u001b[0;34m,\u001b[0m \u001b[0mcell\u001b[0m\u001b[0;34m)\u001b[0m\u001b[0;34m\u001b[0m\u001b[0;34m\u001b[0m\u001b[0m\n\u001b[0;32m-> 2473\u001b[0;31m                 \u001b[0mresult\u001b[0m \u001b[0;34m=\u001b[0m \u001b[0mfn\u001b[0m\u001b[0;34m(\u001b[0m\u001b[0;34m*\u001b[0m\u001b[0margs\u001b[0m\u001b[0;34m,\u001b[0m \u001b[0;34m**\u001b[0m\u001b[0mkwargs\u001b[0m\u001b[0;34m)\u001b[0m\u001b[0;34m\u001b[0m\u001b[0;34m\u001b[0m\u001b[0m\n\u001b[0m\u001b[1;32m   2474\u001b[0m             \u001b[0;32mreturn\u001b[0m \u001b[0mresult\u001b[0m\u001b[0;34m\u001b[0m\u001b[0;34m\u001b[0m\u001b[0m\n\u001b[1;32m   2475\u001b[0m \u001b[0;34m\u001b[0m\u001b[0m\n",
            "\u001b[0;32m<decorator-gen-53>\u001b[0m in \u001b[0;36mtimeit\u001b[0;34m(self, line, cell, local_ns)\u001b[0m\n",
            "\u001b[0;32m/usr/local/lib/python3.12/dist-packages/IPython/core/magic.py\u001b[0m in \u001b[0;36m<lambda>\u001b[0;34m(f, *a, **k)\u001b[0m\n\u001b[1;32m    185\u001b[0m     \u001b[0;31m# but it's overkill for just that one bit of state.\u001b[0m\u001b[0;34m\u001b[0m\u001b[0;34m\u001b[0m\u001b[0m\n\u001b[1;32m    186\u001b[0m     \u001b[0;32mdef\u001b[0m \u001b[0mmagic_deco\u001b[0m\u001b[0;34m(\u001b[0m\u001b[0marg\u001b[0m\u001b[0;34m)\u001b[0m\u001b[0;34m:\u001b[0m\u001b[0;34m\u001b[0m\u001b[0;34m\u001b[0m\u001b[0m\n\u001b[0;32m--> 187\u001b[0;31m         \u001b[0mcall\u001b[0m \u001b[0;34m=\u001b[0m \u001b[0;32mlambda\u001b[0m \u001b[0mf\u001b[0m\u001b[0;34m,\u001b[0m \u001b[0;34m*\u001b[0m\u001b[0ma\u001b[0m\u001b[0;34m,\u001b[0m \u001b[0;34m**\u001b[0m\u001b[0mk\u001b[0m\u001b[0;34m:\u001b[0m \u001b[0mf\u001b[0m\u001b[0;34m(\u001b[0m\u001b[0;34m*\u001b[0m\u001b[0ma\u001b[0m\u001b[0;34m,\u001b[0m \u001b[0;34m**\u001b[0m\u001b[0mk\u001b[0m\u001b[0;34m)\u001b[0m\u001b[0;34m\u001b[0m\u001b[0;34m\u001b[0m\u001b[0m\n\u001b[0m\u001b[1;32m    188\u001b[0m \u001b[0;34m\u001b[0m\u001b[0m\n\u001b[1;32m    189\u001b[0m         \u001b[0;32mif\u001b[0m \u001b[0mcallable\u001b[0m\u001b[0;34m(\u001b[0m\u001b[0marg\u001b[0m\u001b[0;34m)\u001b[0m\u001b[0;34m:\u001b[0m\u001b[0;34m\u001b[0m\u001b[0;34m\u001b[0m\u001b[0m\n",
            "\u001b[0;32m/usr/local/lib/python3.12/dist-packages/IPython/core/magics/execution.py\u001b[0m in \u001b[0;36mtimeit\u001b[0;34m(self, line, cell, local_ns)\u001b[0m\n\u001b[1;32m   1182\u001b[0m                     \u001b[0;32mbreak\u001b[0m\u001b[0;34m\u001b[0m\u001b[0;34m\u001b[0m\u001b[0m\n\u001b[1;32m   1183\u001b[0m \u001b[0;34m\u001b[0m\u001b[0m\n\u001b[0;32m-> 1184\u001b[0;31m         \u001b[0mall_runs\u001b[0m \u001b[0;34m=\u001b[0m \u001b[0mtimer\u001b[0m\u001b[0;34m.\u001b[0m\u001b[0mrepeat\u001b[0m\u001b[0;34m(\u001b[0m\u001b[0mrepeat\u001b[0m\u001b[0;34m,\u001b[0m \u001b[0mnumber\u001b[0m\u001b[0;34m)\u001b[0m\u001b[0;34m\u001b[0m\u001b[0;34m\u001b[0m\u001b[0m\n\u001b[0m\u001b[1;32m   1185\u001b[0m         \u001b[0mbest\u001b[0m \u001b[0;34m=\u001b[0m \u001b[0mmin\u001b[0m\u001b[0;34m(\u001b[0m\u001b[0mall_runs\u001b[0m\u001b[0;34m)\u001b[0m \u001b[0;34m/\u001b[0m \u001b[0mnumber\u001b[0m\u001b[0;34m\u001b[0m\u001b[0;34m\u001b[0m\u001b[0m\n\u001b[1;32m   1186\u001b[0m         \u001b[0mworst\u001b[0m \u001b[0;34m=\u001b[0m \u001b[0mmax\u001b[0m\u001b[0;34m(\u001b[0m\u001b[0mall_runs\u001b[0m\u001b[0;34m)\u001b[0m \u001b[0;34m/\u001b[0m \u001b[0mnumber\u001b[0m\u001b[0;34m\u001b[0m\u001b[0;34m\u001b[0m\u001b[0m\n",
            "\u001b[0;32m/usr/lib/python3.12/timeit.py\u001b[0m in \u001b[0;36mrepeat\u001b[0;34m(self, repeat, number)\u001b[0m\n\u001b[1;32m    206\u001b[0m         \u001b[0mr\u001b[0m \u001b[0;34m=\u001b[0m \u001b[0;34m[\u001b[0m\u001b[0;34m]\u001b[0m\u001b[0;34m\u001b[0m\u001b[0;34m\u001b[0m\u001b[0m\n\u001b[1;32m    207\u001b[0m         \u001b[0;32mfor\u001b[0m \u001b[0mi\u001b[0m \u001b[0;32min\u001b[0m \u001b[0mrange\u001b[0m\u001b[0;34m(\u001b[0m\u001b[0mrepeat\u001b[0m\u001b[0;34m)\u001b[0m\u001b[0;34m:\u001b[0m\u001b[0;34m\u001b[0m\u001b[0;34m\u001b[0m\u001b[0m\n\u001b[0;32m--> 208\u001b[0;31m             \u001b[0mt\u001b[0m \u001b[0;34m=\u001b[0m \u001b[0mself\u001b[0m\u001b[0;34m.\u001b[0m\u001b[0mtimeit\u001b[0m\u001b[0;34m(\u001b[0m\u001b[0mnumber\u001b[0m\u001b[0;34m)\u001b[0m\u001b[0;34m\u001b[0m\u001b[0;34m\u001b[0m\u001b[0m\n\u001b[0m\u001b[1;32m    209\u001b[0m             \u001b[0mr\u001b[0m\u001b[0;34m.\u001b[0m\u001b[0mappend\u001b[0m\u001b[0;34m(\u001b[0m\u001b[0mt\u001b[0m\u001b[0;34m)\u001b[0m\u001b[0;34m\u001b[0m\u001b[0;34m\u001b[0m\u001b[0m\n\u001b[1;32m    210\u001b[0m         \u001b[0;32mreturn\u001b[0m \u001b[0mr\u001b[0m\u001b[0;34m\u001b[0m\u001b[0;34m\u001b[0m\u001b[0m\n",
            "\u001b[0;32m/usr/local/lib/python3.12/dist-packages/IPython/core/magics/execution.py\u001b[0m in \u001b[0;36mtimeit\u001b[0;34m(self, number)\u001b[0m\n\u001b[1;32m    167\u001b[0m         \u001b[0mgc\u001b[0m\u001b[0;34m.\u001b[0m\u001b[0mdisable\u001b[0m\u001b[0;34m(\u001b[0m\u001b[0;34m)\u001b[0m\u001b[0;34m\u001b[0m\u001b[0;34m\u001b[0m\u001b[0m\n\u001b[1;32m    168\u001b[0m         \u001b[0;32mtry\u001b[0m\u001b[0;34m:\u001b[0m\u001b[0;34m\u001b[0m\u001b[0;34m\u001b[0m\u001b[0m\n\u001b[0;32m--> 169\u001b[0;31m             \u001b[0mtiming\u001b[0m \u001b[0;34m=\u001b[0m \u001b[0mself\u001b[0m\u001b[0;34m.\u001b[0m\u001b[0minner\u001b[0m\u001b[0;34m(\u001b[0m\u001b[0mit\u001b[0m\u001b[0;34m,\u001b[0m \u001b[0mself\u001b[0m\u001b[0;34m.\u001b[0m\u001b[0mtimer\u001b[0m\u001b[0;34m)\u001b[0m\u001b[0;34m\u001b[0m\u001b[0;34m\u001b[0m\u001b[0m\n\u001b[0m\u001b[1;32m    170\u001b[0m         \u001b[0;32mfinally\u001b[0m\u001b[0;34m:\u001b[0m\u001b[0;34m\u001b[0m\u001b[0;34m\u001b[0m\u001b[0m\n\u001b[1;32m    171\u001b[0m             \u001b[0;32mif\u001b[0m \u001b[0mgcold\u001b[0m\u001b[0;34m:\u001b[0m\u001b[0;34m\u001b[0m\u001b[0;34m\u001b[0m\u001b[0m\n",
            "\u001b[0;32m<magic-timeit>\u001b[0m in \u001b[0;36minner\u001b[0;34m(_it, _timer)\u001b[0m\n",
            "\u001b[0;32m/usr/lib/python3.12/statistics.py\u001b[0m in \u001b[0;36mmean\u001b[0;34m(data)\u001b[0m\n\u001b[1;32m    482\u001b[0m     \u001b[0mIf\u001b[0m\u001b[0;31m \u001b[0m\u001b[0;31m`\u001b[0m\u001b[0;31m`\u001b[0m\u001b[0mdata\u001b[0m\u001b[0;31m`\u001b[0m\u001b[0;31m`\u001b[0m \u001b[0;32mis\u001b[0m \u001b[0mempty\u001b[0m\u001b[0;34m,\u001b[0m \u001b[0mStatisticsError\u001b[0m \u001b[0mwill\u001b[0m \u001b[0mbe\u001b[0m \u001b[0mraised\u001b[0m\u001b[0;34m.\u001b[0m\u001b[0;34m\u001b[0m\u001b[0;34m\u001b[0m\u001b[0m\n\u001b[1;32m    483\u001b[0m     \"\"\"\n\u001b[0;32m--> 484\u001b[0;31m     \u001b[0mT\u001b[0m\u001b[0;34m,\u001b[0m \u001b[0mtotal\u001b[0m\u001b[0;34m,\u001b[0m \u001b[0mn\u001b[0m \u001b[0;34m=\u001b[0m \u001b[0m_sum\u001b[0m\u001b[0;34m(\u001b[0m\u001b[0mdata\u001b[0m\u001b[0;34m)\u001b[0m\u001b[0;34m\u001b[0m\u001b[0;34m\u001b[0m\u001b[0m\n\u001b[0m\u001b[1;32m    485\u001b[0m     \u001b[0;32mif\u001b[0m \u001b[0mn\u001b[0m \u001b[0;34m<\u001b[0m \u001b[0;36m1\u001b[0m\u001b[0;34m:\u001b[0m\u001b[0;34m\u001b[0m\u001b[0;34m\u001b[0m\u001b[0m\n\u001b[1;32m    486\u001b[0m         \u001b[0;32mraise\u001b[0m \u001b[0mStatisticsError\u001b[0m\u001b[0;34m(\u001b[0m\u001b[0;34m'mean requires at least one data point'\u001b[0m\u001b[0;34m)\u001b[0m\u001b[0;34m\u001b[0m\u001b[0;34m\u001b[0m\u001b[0m\n",
            "\u001b[0;32m/usr/lib/python3.12/statistics.py\u001b[0m in \u001b[0;36m_sum\u001b[0;34m(data)\u001b[0m\n\u001b[1;32m    191\u001b[0m     \u001b[0;32mfor\u001b[0m \u001b[0mtyp\u001b[0m\u001b[0;34m,\u001b[0m \u001b[0mvalues\u001b[0m \u001b[0;32min\u001b[0m \u001b[0mgroupby\u001b[0m\u001b[0;34m(\u001b[0m\u001b[0mdata\u001b[0m\u001b[0;34m,\u001b[0m \u001b[0mtype\u001b[0m\u001b[0;34m)\u001b[0m\u001b[0;34m:\u001b[0m\u001b[0;34m\u001b[0m\u001b[0;34m\u001b[0m\u001b[0m\n\u001b[1;32m    192\u001b[0m         \u001b[0mtypes_add\u001b[0m\u001b[0;34m(\u001b[0m\u001b[0mtyp\u001b[0m\u001b[0;34m)\u001b[0m\u001b[0;34m\u001b[0m\u001b[0;34m\u001b[0m\u001b[0m\n\u001b[0;32m--> 193\u001b[0;31m         \u001b[0;32mfor\u001b[0m \u001b[0mn\u001b[0m\u001b[0;34m,\u001b[0m \u001b[0md\u001b[0m \u001b[0;32min\u001b[0m \u001b[0mmap\u001b[0m\u001b[0;34m(\u001b[0m\u001b[0m_exact_ratio\u001b[0m\u001b[0;34m,\u001b[0m \u001b[0mvalues\u001b[0m\u001b[0;34m)\u001b[0m\u001b[0;34m:\u001b[0m\u001b[0;34m\u001b[0m\u001b[0;34m\u001b[0m\u001b[0m\n\u001b[0m\u001b[1;32m    194\u001b[0m             \u001b[0mcount\u001b[0m \u001b[0;34m+=\u001b[0m \u001b[0;36m1\u001b[0m\u001b[0;34m\u001b[0m\u001b[0;34m\u001b[0m\u001b[0m\n\u001b[1;32m    195\u001b[0m             \u001b[0mpartials\u001b[0m\u001b[0;34m[\u001b[0m\u001b[0md\u001b[0m\u001b[0;34m]\u001b[0m \u001b[0;34m=\u001b[0m \u001b[0mpartials_get\u001b[0m\u001b[0;34m(\u001b[0m\u001b[0md\u001b[0m\u001b[0;34m,\u001b[0m \u001b[0;36m0\u001b[0m\u001b[0;34m)\u001b[0m \u001b[0;34m+\u001b[0m \u001b[0mn\u001b[0m\u001b[0;34m\u001b[0m\u001b[0;34m\u001b[0m\u001b[0m\n",
            "\u001b[0;32m/usr/lib/python3.12/statistics.py\u001b[0m in \u001b[0;36m_exact_ratio\u001b[0;34m(x)\u001b[0m\n\u001b[1;32m    285\u001b[0m \u001b[0;34m\u001b[0m\u001b[0m\n\u001b[1;32m    286\u001b[0m \u001b[0;34m\u001b[0m\u001b[0m\n\u001b[0;32m--> 287\u001b[0;31m \u001b[0;32mdef\u001b[0m \u001b[0m_exact_ratio\u001b[0m\u001b[0;34m(\u001b[0m\u001b[0mx\u001b[0m\u001b[0;34m)\u001b[0m\u001b[0;34m:\u001b[0m\u001b[0;34m\u001b[0m\u001b[0;34m\u001b[0m\u001b[0m\n\u001b[0m\u001b[1;32m    288\u001b[0m     \"\"\"Return Real number x to exact (numerator, denominator) pair.\n\u001b[1;32m    289\u001b[0m \u001b[0;34m\u001b[0m\u001b[0m\n",
            "\u001b[0;31mKeyboardInterrupt\u001b[0m: "
          ]
        }
      ]
    },
    {
      "cell_type": "code",
      "source": [
        "import numpy as np    #np is numpy\n",
        "np.mean(salary_list)\n",
        "%%timeit"
      ],
      "metadata": {
        "id": "XhM5AXC5J1sK",
        "outputId": "45a45e77-2553-4843-a8a0-0a7f48adcc2e",
        "colab": {
          "base_uri": "https://localhost:8080/"
        }
      },
      "execution_count": 12,
      "outputs": [
        {
          "output_type": "stream",
          "name": "stderr",
          "text": [
            "UsageError: Line magic function `%%timeit` not found.\n"
          ]
        }
      ]
    },
    {
      "cell_type": "markdown",
      "metadata": {
        "id": "AImjB-sk_fN9"
      },
      "source": [
        "### Create an Array"
      ]
    },
    {
      "cell_type": "code",
      "execution_count": null,
      "metadata": {
        "id": "VpsrSDGX_fN9"
      },
      "outputs": [],
      "source": [
        "# Install package\n",
        "!conda install numpy"
      ]
    },
    {
      "cell_type": "code",
      "execution_count": null,
      "metadata": {
        "id": "e28SNJ2h_fOA"
      },
      "outputs": [],
      "source": [
        "# Import Package\n",
        "import numpy as np"
      ]
    },
    {
      "cell_type": "code",
      "execution_count": 13,
      "metadata": {
        "id": "RfRz7W_s_fOB"
      },
      "outputs": [],
      "source": [
        "# Example: An array representing the number of years of experience required for three different data science job listings.\n",
        "years_of_experience = np.array([1, 2, 3, 4, 5])"
      ]
    },
    {
      "cell_type": "code",
      "source": [
        "import numpy as np\n",
        "my_array = np.array([1, 2, 3, 4, 5])\n",
        "my_array.mean()   #一个使用64位双精度浮点数格式存储的数值3.0,这是一个特定格式（64位IEEE 754双精度）的数字表示"
      ],
      "metadata": {
        "id": "M7PV9tCoNMcc",
        "outputId": "6f73e901-88f7-45e4-a8b9-4bbb1d8b745e",
        "colab": {
          "base_uri": "https://localhost:8080/"
        }
      },
      "execution_count": 14,
      "outputs": [
        {
          "output_type": "execute_result",
          "data": {
            "text/plain": [
              "np.float64(3.0)"
            ]
          },
          "metadata": {},
          "execution_count": 14
        }
      ]
    },
    {
      "cell_type": "markdown",
      "metadata": {
        "id": "pVaRAJT2_fOB"
      },
      "source": [
        "### Basic Operations\n",
        "\n",
        "Applying mathematics operations to the entire array."
      ]
    },
    {
      "cell_type": "code",
      "source": [
        "# Job Titles\n",
        "jobs_titles = np.array(['Data Analyst', 'Data Scientist', 'Machine Learning Engineer', 'Data Engineer', 'Business Analyst'])\n",
        "\n",
        "#Base salaries\n",
        "base_salaries = np.array([50000, 100000, 150000, 200000, 250000])\n",
        "\n",
        "#Bonus rates\n",
        "bonus_rates = np.array([0.1, 0.2, 0.3, 0.4, 0.5])\n",
        "\n",
        "total_salary = base_salaries + (base_salaries * bonus_rates)\n",
        "total_salary"
      ],
      "metadata": {
        "id": "TcKCDNeyOiuN",
        "outputId": "6c657dee-f2b0-422a-b47c-b1854477eb12",
        "colab": {
          "base_uri": "https://localhost:8080/"
        }
      },
      "execution_count": 16,
      "outputs": [
        {
          "output_type": "execute_result",
          "data": {
            "text/plain": [
              "array([ 55000., 120000., 195000., 280000., 375000.])"
            ]
          },
          "metadata": {},
          "execution_count": 16
        }
      ]
    },
    {
      "cell_type": "markdown",
      "metadata": {
        "id": "GaeJA_8N_fOC"
      },
      "source": [
        "#### Addition\n",
        "Adding 1 year to the experience requirements for each job listing."
      ]
    },
    {
      "cell_type": "code",
      "execution_count": null,
      "metadata": {
        "id": "fK2Qwdlt_fOC",
        "outputId": "da48a661-059c-4e57-d853-dbb62538ef12"
      },
      "outputs": [
        {
          "data": {
            "text/plain": [
              "array([2, 3, 4, 5, 6])"
            ]
          },
          "execution_count": 4,
          "metadata": {},
          "output_type": "execute_result"
        }
      ],
      "source": [
        "years_of_experience_plus_one = years_of_experience + 1\n",
        "years_of_experience_plus_one"
      ]
    },
    {
      "cell_type": "markdown",
      "metadata": {
        "id": "hYgqScCC_fOD"
      },
      "source": [
        "#### Subtraction\n",
        "\n",
        "Subtracting 1 year from the experience requirements for each job listing."
      ]
    },
    {
      "cell_type": "code",
      "execution_count": null,
      "metadata": {
        "id": "ZsGlf7uc_fOE",
        "outputId": "8d18844d-f9c1-445e-bd4c-2124f194969e"
      },
      "outputs": [
        {
          "data": {
            "text/plain": [
              "array([0, 1, 2, 3, 4])"
            ]
          },
          "execution_count": 5,
          "metadata": {},
          "output_type": "execute_result"
        }
      ],
      "source": [
        "years_of_experience_minus_one = years_of_experience - 1\n",
        "years_of_experience_minus_one"
      ]
    },
    {
      "cell_type": "markdown",
      "metadata": {
        "id": "cUag4QPV_fOE"
      },
      "source": [
        "#### Division\n",
        "\n",
        "Dividing the experience requirements by 2 (maybe for a junior role)."
      ]
    },
    {
      "cell_type": "code",
      "execution_count": null,
      "metadata": {
        "id": "NPJzBxD-_fOE",
        "outputId": "c849b78f-8ba4-40bb-f573-821360c45ad3"
      },
      "outputs": [
        {
          "data": {
            "text/plain": [
              "array([0.5, 1. , 1.5, 2. , 2.5])"
            ]
          },
          "execution_count": 6,
          "metadata": {},
          "output_type": "execute_result"
        }
      ],
      "source": [
        "years_of_experience_half = years_of_experience / 2\n",
        "years_of_experience_half"
      ]
    },
    {
      "cell_type": "markdown",
      "metadata": {
        "id": "XB6K8cjb_fOF"
      },
      "source": [
        "#### Multiplication\n",
        "\n",
        "Doubling the experience requirements for each job listing."
      ]
    },
    {
      "cell_type": "code",
      "execution_count": null,
      "metadata": {
        "id": "1JC1dZME_fOF",
        "outputId": "8a2f1c01-d06a-4554-854f-24a9ff34ba84"
      },
      "outputs": [
        {
          "data": {
            "text/plain": [
              "array([ 2,  4,  6,  8, 10])"
            ]
          },
          "execution_count": 7,
          "metadata": {},
          "output_type": "execute_result"
        }
      ],
      "source": [
        "years_of_experience_double = years_of_experience * 2\n",
        "years_of_experience_double"
      ]
    },
    {
      "cell_type": "markdown",
      "metadata": {
        "id": "M6jmmcMP_fOF"
      },
      "source": [
        "### Slicing\n",
        "\n",
        "Get subset of information from the array. Let's get the experience requirements for the second and third job postings."
      ]
    },
    {
      "cell_type": "code",
      "execution_count": null,
      "metadata": {
        "id": "EF2AWUMZ_fOG",
        "outputId": "6b99b225-800e-406a-806a-40873e7d4dd6"
      },
      "outputs": [
        {
          "data": {
            "text/plain": [
              "array([2, 3])"
            ]
          },
          "execution_count": 4,
          "metadata": {},
          "output_type": "execute_result"
        }
      ],
      "source": [
        "# Example: Selecting the experience requirement for the second and third job listings.\n",
        "second_and_third_jobs_experience = years_of_experience[1:3]\n",
        "second_and_third_jobs_experience"
      ]
    },
    {
      "cell_type": "markdown",
      "metadata": {
        "id": "-eU84ECA_fOG"
      },
      "source": [
        "### Boolean Indexing\n",
        "\n",
        "Get items from the array that meet a specific condition. For this get only the job postings that require more than 2 years of experience."
      ]
    },
    {
      "cell_type": "code",
      "execution_count": null,
      "metadata": {
        "id": "QQZrDgkQ_fOH",
        "outputId": "7559581c-b87b-44d0-ebad-f1a75ac9bc92"
      },
      "outputs": [
        {
          "data": {
            "text/plain": [
              "array([3, 4, 5])"
            ]
          },
          "execution_count": 5,
          "metadata": {},
          "output_type": "execute_result"
        }
      ],
      "source": [
        "# Example: Selecting only those job listings that require more than 1 year of experience.\n",
        "jobs_with_more_than_one_year_exp = years_of_experience[years_of_experience > 2]\n",
        "jobs_with_more_than_one_year_exp"
      ]
    },
    {
      "cell_type": "markdown",
      "metadata": {
        "id": "jCmPO2FpKxLC"
      },
      "source": [
        "## Math Operations\n",
        "\n",
        "### Notes\n",
        "\n",
        "* Aggregate functions:\n",
        "    * `sum`: sum\n",
        "    * `prod`: product\n",
        "    * `cumsum`: cumulative sum\n",
        "    * `cumprod`: cumulative product\n",
        "* Mathematical operations (we won't be going into this during the course):\n",
        "    * `sqrt`\n",
        "    * `exp`\n",
        "    * `log`\n",
        "    * `sin`\n",
        "    * `cos`\n",
        "\n",
        "### Examples\n",
        "\n",
        "First lets create a list with 10 yearly salaries for a Senior Data Analyst job. We're just using a combination of the `random` library to get random integers between 100000 and 150000. Then using a `for` loop to get 10 (random) values."
      ]
    },
    {
      "cell_type": "code",
      "execution_count": null,
      "metadata": {
        "id": "f91fbq4I_fOI"
      },
      "outputs": [],
      "source": [
        "import random\n",
        "\n",
        "salary = [random.randint(100000, 150000) for num in range(10)]"
      ]
    },
    {
      "cell_type": "code",
      "execution_count": null,
      "metadata": {
        "id": "RyZJoest_fOI",
        "outputId": "32f13fa6-f991-4e54-8dcd-fa07d60f9564"
      },
      "outputs": [
        {
          "data": {
            "text/plain": [
              "[111298,\n",
              " 110003,\n",
              " 103540,\n",
              " 116494,\n",
              " 120441,\n",
              " 149248,\n",
              " 107357,\n",
              " 141818,\n",
              " 102895,\n",
              " 139437]"
            ]
          },
          "execution_count": 7,
          "metadata": {},
          "output_type": "execute_result"
        }
      ],
      "source": [
        "salary"
      ]
    },
    {
      "cell_type": "markdown",
      "metadata": {
        "id": "ydYOpwNC_fOJ"
      },
      "source": [
        "Now we'll convert this list into a NumPy array."
      ]
    },
    {
      "cell_type": "code",
      "execution_count": null,
      "metadata": {
        "id": "uJerw0ql_fOJ",
        "outputId": "90e0ad79-e296-4ee5-b5ef-a9bc59ebf931"
      },
      "outputs": [
        {
          "data": {
            "text/plain": [
              "array([111298, 110003, 103540, 116494, 120441, 149248, 107357, 141818,\n",
              "       102895, 139437])"
            ]
          },
          "execution_count": 8,
          "metadata": {},
          "output_type": "execute_result"
        }
      ],
      "source": [
        "salary_array = np.array(salary)\n",
        "salary_array"
      ]
    },
    {
      "cell_type": "markdown",
      "metadata": {
        "id": "aPEowq1U_fOJ"
      },
      "source": [
        "### Sum\n",
        "\n",
        "Calculate the total sum of the elements in the `salary_array`."
      ]
    },
    {
      "cell_type": "code",
      "execution_count": null,
      "metadata": {
        "id": "6x_PYiZo_fOJ",
        "outputId": "c1ea62c4-3777-4ec4-b949-bfb052d5504c"
      },
      "outputs": [
        {
          "data": {
            "text/plain": [
              "1202531"
            ]
          },
          "execution_count": 9,
          "metadata": {},
          "output_type": "execute_result"
        }
      ],
      "source": [
        "total_sum_salaries = np.sum(salary_array)\n",
        "total_sum_salaries"
      ]
    },
    {
      "cell_type": "markdown",
      "metadata": {
        "id": "LtR-cOGp_fOK"
      },
      "source": [
        "### Prod\n",
        "\n",
        "Calculate the product of the elements in the `salary_array`."
      ]
    },
    {
      "cell_type": "code",
      "execution_count": null,
      "metadata": {
        "id": "5aCtL9tO_fOK",
        "outputId": "c712a043-8aad-472f-ebf8-88931cf414a7"
      },
      "outputs": [
        {
          "data": {
            "text/plain": [
              "-2136956928"
            ]
          },
          "execution_count": 10,
          "metadata": {},
          "output_type": "execute_result"
        }
      ],
      "source": [
        "# This is a conceptual example since taking the product of a boolean series isn't common\n",
        "product_salaries = np.prod(salary_array)\n",
        "product_salaries"
      ]
    },
    {
      "cell_type": "markdown",
      "metadata": {
        "id": "ACONHSci_fOK"
      },
      "source": [
        "### Cumsum (Cumulative Sum)\n",
        "\n",
        "Calculates the cumulative sum of elements of the `salary_array`. It calculates the cumulative sum at each index, meaning each element in the output array is the sum of all preceding elements including the current one from the original array.\n",
        "\n",
        "For the `salary_array`:\n",
        "\n",
        "* First element of cumsum is 110003 (just the first element)\n",
        "* Second element is 110003 + 133394 = 243397\n",
        "* Third element is 243397 + 148741 = 392138\n",
        "* And so on..."
      ]
    },
    {
      "cell_type": "code",
      "execution_count": null,
      "metadata": {
        "id": "im7O9Ilh_fOL",
        "outputId": "2a16933c-ae5d-49f8-baac-d3c244696cea"
      },
      "outputs": [
        {
          "data": {
            "text/plain": [
              "array([ 111298,  221301,  324841,  441335,  561776,  711024,  818381,\n",
              "        960199, 1063094, 1202531])"
            ]
          },
          "execution_count": 11,
          "metadata": {},
          "output_type": "execute_result"
        }
      ],
      "source": [
        "cumulative_sum_salaries = np.cumsum(salary_array)\n",
        "cumulative_sum_salaries"
      ]
    },
    {
      "cell_type": "markdown",
      "metadata": {
        "id": "YqUgyAno_fOL"
      },
      "source": [
        "### Cumprod (Cumulative Product)\n",
        "\n",
        "Calculates the cumulative product of elements of the `salary_array`. It calculates the cumulative product at each index, meaning each element in the output array is the product of all preceding elements including the current one from the original array.\n",
        "\n",
        "For the `salary_array`:\n",
        "\n",
        "* First element of cumprod is 110003\n",
        "* Second element is 110003 * 133394\n",
        "* Third element is (110003 * 133394) * 148741\n",
        "* And so on..."
      ]
    },
    {
      "cell_type": "code",
      "execution_count": null,
      "metadata": {
        "id": "1mdtc3Ti_fOL",
        "outputId": "216e86d7-031a-4851-86f6-73060f5d701f"
      },
      "outputs": [
        {
          "data": {
            "text/plain": [
              "array([     111298,  -641787994,  1005104952,  -702145264,   828316816,\n",
              "       -1710493696, -2144980992, -1560616960,   555163648, -2136956928])"
            ]
          },
          "execution_count": 12,
          "metadata": {},
          "output_type": "execute_result"
        }
      ],
      "source": [
        "# Cumulative product of 'job_no_degree_mention' column (conceptual example)\n",
        "cumulative_prod_salaries = np.cumprod(salary_array)\n",
        "cumulative_prod_salaries"
      ]
    },
    {
      "cell_type": "markdown",
      "metadata": {
        "id": "7-dJKXC5_fOL"
      },
      "source": [
        "**Note**: Due to the large numbers, the cumulative product values quickly escalate to the point where they exceed the numerical limit for typical data types in Python, leading to integer overflow. This is why some numbers appear as negative."
      ]
    },
    {
      "cell_type": "markdown",
      "metadata": {
        "id": "75hqgHJ7Kyqj"
      },
      "source": [
        "## Statistics Operations\n",
        "\n",
        "### Notes\n",
        "\n",
        "A lot of these you can also use Pandas because Pandas is built on top of NumPy. So here's a few examples but we won't be diving deep into them.\n",
        "\n",
        "* `mean`\n",
        "* `median`\n",
        "* `var`: variance\n",
        "* `std`: standard deviation\n",
        "* `min`\n",
        "* `max`"
      ]
    },
    {
      "cell_type": "markdown",
      "metadata": {
        "id": "FDw5fTwf_fOM"
      },
      "source": [
        "### Mean\n",
        "\n",
        "Calculate the average salary in the `salary_array`."
      ]
    },
    {
      "cell_type": "code",
      "execution_count": null,
      "metadata": {
        "id": "lasC9lKj_fOM",
        "outputId": "6e331a83-48ff-4e08-fdd6-298fa9c71e6b"
      },
      "outputs": [
        {
          "data": {
            "text/plain": [
              "120253.1"
            ]
          },
          "execution_count": 13,
          "metadata": {},
          "output_type": "execute_result"
        }
      ],
      "source": [
        "average_salary = np.mean(salary_array)\n",
        "average_salary"
      ]
    },
    {
      "cell_type": "markdown",
      "metadata": {
        "id": "eTOXUvYO_fOM"
      },
      "source": [
        "### Median\n",
        "\n",
        "Find the median salary in the `salary_array`."
      ]
    },
    {
      "cell_type": "code",
      "execution_count": null,
      "metadata": {
        "id": "hbcW03zy_fOU",
        "outputId": "99660d84-fd6b-44ef-9772-c041c8c8455e"
      },
      "outputs": [
        {
          "data": {
            "text/plain": [
              "113896.0"
            ]
          },
          "execution_count": 14,
          "metadata": {},
          "output_type": "execute_result"
        }
      ],
      "source": [
        "median_salary = np.median(salary_array)\n",
        "median_salary"
      ]
    },
    {
      "cell_type": "markdown",
      "metadata": {
        "id": "JUYm_-RU_fOU"
      },
      "source": [
        "### Var\n",
        "\n",
        "Calculate the variance of the `salary_array`."
      ]
    },
    {
      "cell_type": "code",
      "execution_count": null,
      "metadata": {
        "id": "0r1S_0gB_fOU",
        "outputId": "2d85968f-2761-49c7-a1a0-01390b4f0cc9"
      },
      "outputs": [
        {
          "data": {
            "text/plain": [
              "291126267.21111107"
            ]
          },
          "execution_count": 15,
          "metadata": {},
          "output_type": "execute_result"
        }
      ],
      "source": [
        "salary_variance = np.var(salary_array, ddof=1)  # ddof=1 for sample variance\n",
        "salary_variance"
      ]
    },
    {
      "cell_type": "markdown",
      "metadata": {
        "id": "r2FOS54r_fOV"
      },
      "source": [
        "### Std\n",
        "\n",
        "Calculate the standard deviation of the `salary_array`."
      ]
    },
    {
      "cell_type": "code",
      "execution_count": null,
      "metadata": {
        "id": "dNQWVP95_fOV",
        "outputId": "1f8ac14f-62df-404b-faae-5891d6628a88"
      },
      "outputs": [
        {
          "data": {
            "text/plain": [
              "17062.42266535181"
            ]
          },
          "execution_count": 16,
          "metadata": {},
          "output_type": "execute_result"
        }
      ],
      "source": [
        "# Standard deviation of 'salary_year_avg' column\n",
        "salary_std_dev = np.std(salary_array, ddof=1)  # ddof=1 for sample standard deviation\n",
        "salary_std_dev"
      ]
    },
    {
      "cell_type": "markdown",
      "metadata": {
        "id": "fBOY0M11_fOV"
      },
      "source": [
        "### Min\n",
        "\n",
        "Find the minimum element in the `salary_array`."
      ]
    },
    {
      "cell_type": "code",
      "execution_count": null,
      "metadata": {
        "id": "QI3gE6c7_fOV",
        "outputId": "32f38e2e-e605-43fc-d492-3612c8cd0fb4"
      },
      "outputs": [
        {
          "data": {
            "text/plain": [
              "102895"
            ]
          },
          "execution_count": 17,
          "metadata": {},
          "output_type": "execute_result"
        }
      ],
      "source": [
        "# Minimum of 'salary_year_avg' column\n",
        "min_salary = np.min(salary_array)\n",
        "min_salary"
      ]
    },
    {
      "cell_type": "markdown",
      "metadata": {
        "id": "TTCTmhuK_fOW"
      },
      "source": [
        "### Max\n",
        "\n",
        "Find the maximum element in the `salary_array`."
      ]
    },
    {
      "cell_type": "code",
      "execution_count": null,
      "metadata": {
        "id": "1a1t-v1g_fOW",
        "outputId": "4cc5ff88-4c89-42a3-df5a-54fd3959469e"
      },
      "outputs": [
        {
          "data": {
            "text/plain": [
              "149248"
            ]
          },
          "execution_count": 18,
          "metadata": {},
          "output_type": "execute_result"
        }
      ],
      "source": [
        "# Maximum of 'salary_year_avg' column\n",
        "max_salary = np.max(salary_array)\n",
        "max_salary"
      ]
    },
    {
      "cell_type": "markdown",
      "metadata": {
        "id": "tvAgsRdkK0zi"
      },
      "source": [
        "## NaN\n",
        "\n",
        "\n",
        "### Notes\n",
        "\n",
        "* Generate NaN values using `np.nan`\n",
        "* `np.nan` value is used in NumPy (and by extension, Pandas) to represent missing or undefined data\n",
        "* Helpful because it:\n",
        "    * Handles missing data.\n",
        "    * Helps with computations since it won't return errors but instead return `np.nan`.\n",
        "    * Help filter out or fill in missing data using other methods that we'll use often in the `pandas` library like `dropna()`, `fillna()`, `isna()`, or `notna()`.\n",
        "\n",
        "### Examples\n",
        "\n",
        "Below are a few examples of what you can do."
      ]
    },
    {
      "cell_type": "markdown",
      "metadata": {
        "id": "TcMoswLh_fOW"
      },
      "source": [
        "#### Insert Missing Values\n",
        "\n",
        "If you want to insert missing values into your array intentionally, perhaps to indicate that data is expected but not yet available. You use `np.nan`."
      ]
    },
    {
      "cell_type": "code",
      "execution_count": null,
      "metadata": {
        "id": "kMd7D2mb_fOW",
        "outputId": "f9f1b61b-2ddc-46e3-8754-58e85ce7c981"
      },
      "outputs": [
        {
          "data": {
            "text/plain": [
              "array([123124.,     nan, 145000., 128000., 110000., 149999.,     nan,\n",
              "       135000., 115000., 140000.])"
            ]
          },
          "execution_count": 19,
          "metadata": {},
          "output_type": "execute_result"
        }
      ],
      "source": [
        "salary_with_nan = np.array([123124, np.nan, 145000, 128000, 110000, 149999, np.nan, 135000, 115000, 140000], dtype=float)\n",
        "salary_with_nan"
      ]
    },
    {
      "cell_type": "markdown",
      "metadata": {
        "id": "xOUQ7UEz_fOX"
      },
      "source": [
        "#### Replace Values with NaN\n",
        "\n",
        "If you want to replace existing values with `np.nan`, for example, if certain values are considered invalid or outliers:"
      ]
    },
    {
      "cell_type": "code",
      "execution_count": null,
      "metadata": {
        "id": "tdWG5xuu_fOX",
        "outputId": "70ff3f4f-0a60-4dd2-b6b3-1d130ac9d8da"
      },
      "outputs": [
        {
          "data": {
            "text/plain": [
              "array([    nan,     nan, 145000.,     nan,     nan, 149999.,     nan,\n",
              "       135000.,     nan, 140000.])"
            ]
          },
          "execution_count": 20,
          "metadata": {},
          "output_type": "execute_result"
        }
      ],
      "source": [
        "salary_with_nan[salary_with_nan < 130000] = np.nan\n",
        "salary_with_nan"
      ]
    },
    {
      "cell_type": "markdown",
      "metadata": {
        "id": "w9x0zWig_fOX"
      },
      "source": [
        "## Where\n",
        "\n",
        "### Notes\n",
        "\n",
        "* `np.where` check elements of an array against a condition and to assign a value for True and another for false.\n",
        "* Syntax: `np.where(condition)`.\n",
        "* It's commonly used to conditionally replace array elements.\n",
        "\n",
        "### Example\n",
        "\n",
        "We're going to replace all values in `salary_array` that are less than 120,000 with 120,000 (to apply a minimum salary threshold). We'll use this syntax for it: `np.where(condition, x, y)`. With a `condition` and if it's true we do `x` and if not then do `y`."
      ]
    },
    {
      "cell_type": "code",
      "execution_count": null,
      "metadata": {
        "id": "jXdvf0Pg_fOX",
        "outputId": "b9f387a3-7fd7-4901-cecc-ff51339f1650"
      },
      "outputs": [
        {
          "data": {
            "text/plain": [
              "array([120000, 120000, 120000, 120000, 120441, 149248, 120000, 141818,\n",
              "       120000, 139437])"
            ]
          },
          "execution_count": 21,
          "metadata": {},
          "output_type": "execute_result"
        }
      ],
      "source": [
        "# Replace values using np.where\n",
        "salary_array = np.where(salary_array < 120000, 120000, salary_array)\n",
        "salary_array"
      ]
    },
    {
      "cell_type": "markdown",
      "metadata": {
        "id": "DP0MRdEE_fOY"
      },
      "source": [
        "## Random Sampling\n",
        "\n",
        "### Notes\n",
        "* Generate a random numbers or samples.\n",
        "* `np.random.normal` - draws random samples from a normal (Gaussian) distribution.\n",
        "    * Specify the Arguments:\n",
        "        * `loc`: This is the mean (`μ`) of the normal distribution.\n",
        "        * `scale`: This is the standard deviation (`σ`) of the normal distribution, representing the dispersion from the mean.\n",
        "        * `size`: This defines the number of random samples to draw, which is set to match the number of job postings.\n",
        "    * Syntax: `np.random.normal(loc=0.0, scale=1.0, size=None)`\n",
        "* A few other random sampling functions:\n",
        "    * `np.random.rand`\n",
        "    * `np.random.randn`\n",
        "    * `np.random.randint`\n",
        "    * `np.random.random`\n",
        "    * `np.random.uniform`\n",
        "    * `np.random.binomial`\n",
        "    * `np.random.poisson`\n",
        "\n",
        "### Example\n",
        "\n",
        "Let's add some random noise to the `salary_array` to simulate salary variations. We can generate random values from a normal distribution with a mean of 0 and a standard deviation of 5000, then add these values to the salaries.\n",
        "\n",
        "**Why?** This can be used to simulate salary data for job postings if actual salary data isn't available, for instance, in modeling or simulation scenarios."
      ]
    },
    {
      "cell_type": "code",
      "execution_count": null,
      "metadata": {
        "id": "zVjb6SSS_fOY",
        "outputId": "f6871da4-737e-4932-ee6e-eca94f87ae41"
      },
      "outputs": [
        {
          "data": {
            "text/plain": [
              "array([124219.08195846, 131116.06759323, 119455.49265214, 122182.62053755,\n",
              "       118818.2917239 , 151255.86681034, 130457.25819974, 143396.35776544,\n",
              "       120961.92775885, 130976.31025803])"
            ]
          },
          "execution_count": 22,
          "metadata": {},
          "output_type": "execute_result"
        }
      ],
      "source": [
        "# Generate numbers based on normal distribution\n",
        "noise = np.random.normal(0, 5000, salary_array.size)\n",
        "# Add these numbers to the salary_array\n",
        "salary_array_with_noise = salary_array + noise\n",
        "salary_array_with_noise"
      ]
    }
  ],
  "metadata": {
    "colab": {
      "provenance": []
    },
    "kernelspec": {
      "display_name": "Python 3",
      "name": "python3"
    },
    "language_info": {
      "codemirror_mode": {
        "name": "ipython",
        "version": 3
      },
      "file_extension": ".py",
      "mimetype": "text/x-python",
      "name": "python",
      "nbconvert_exporter": "python",
      "pygments_lexer": "ipython3",
      "version": "3.11.9"
    }
  },
  "nbformat": 4,
  "nbformat_minor": 0
}