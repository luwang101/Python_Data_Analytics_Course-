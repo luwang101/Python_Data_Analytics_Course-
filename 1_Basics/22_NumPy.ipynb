{
  "cells": [
    {
      "cell_type": "markdown",
      "metadata": {
        "id": "968c1e72"
      },
      "source": [
        "<a target=\"_blank\" href=\"https://colab.research.google.com/github/lukebarousse/Python_Data_Analytics_Course/blob/main/1_Basics/22_NumPy.ipynb\">\n",
        "  <img src=\"https://colab.research.google.com/assets/colab-badge.svg\" alt=\"Open In Colab\"/>\n",
        "</a>"
      ]
    },
    {
      "cell_type": "markdown",
      "metadata": {
        "id": "hto_gSZTKnSA"
      },
      "source": [
        "# NumPy"
      ]
    },
    {
      "cell_type": "markdown",
      "source": [
        "after covering the basics of python libraries, we move forward with some specific libaries"
      ],
      "metadata": {
        "id": "lEk41cJYAslb"
      }
    },
    {
      "cell_type": "markdown",
      "metadata": {
        "id": "NzbZuEiVAiDy"
      },
      "source": [
        "## Notes\n",
        "\n",
        "* NumPy, which stands for Numerical Python, is foundational for numerical computing in Python.\n",
        "* Designed for scientific computation and is used extensively for data analysis because of its ability to handle large, multi-dimensional arrays and matrices efficiently.\n",
        "* Serves as the basis for many other Python data science libraries, including Pandas, due to its speed and efficiency in numerical computations.\n",
        "* A few special use cases for NumPy specifically for data analysis:\n",
        "    * Array operations\n",
        "    * Linear algebra\n",
        "    * Statistical functions\n",
        "    * Random number generation\n",
        "\n",
        "## Importance\n",
        "\n",
        "* Important for data analysis.\n",
        "* Way to store data in a structured format, making it easier to organize, access, and manipulate data.\n",
        "* Pandas library is built on top of NumPy.\n",
        "\n",
        "For more information on NumPy check out the official documentation [here](https://numpy.org/doc/1.26/)."
      ]
    },
    {
      "cell_type": "markdown",
      "metadata": {
        "id": "qPseiZXsKv5-"
      },
      "source": [
        "## Array Operations\n",
        "\n",
        "### Notes\n",
        "* Creation: **`import numpy as np; np.array([1, 2, 3])`**\n",
        "* Basic Operations:  `+`, `-`, `/`, `*` performed element-wise\n",
        "* Slicing: **`array[1:3]`**\n",
        "* Boolean Indexing: **`array[array > 0]`**\n",
        "\n",
        "### Examples\n",
        "\n",
        "Let's start with creating a fictional array with the number of years of experience required for five different data science job listings."
      ]
    },
    {
      "cell_type": "markdown",
      "metadata": {
        "id": "KkMTnLSKAiD3"
      },
      "source": [
        "### Create an Array"
      ]
    },
    {
      "cell_type": "code",
      "execution_count": null,
      "metadata": {
        "id": "FRVgqVxlAiD4"
      },
      "outputs": [],
      "source": [
        "# Install package\n",
        "!conda install numpy"
      ]
    },
    {
      "cell_type": "code",
      "execution_count": null,
      "metadata": {
        "id": "AlFocjOeAiD7"
      },
      "outputs": [],
      "source": [
        "# Import Package\n",
        "import numpy as np"
      ]
    },
    {
      "cell_type": "code",
      "execution_count": null,
      "metadata": {
        "id": "u4LfcnYhAiD7"
      },
      "outputs": [],
      "source": [
        "# Example: An array representing the number of years of experience required for three different data science job listings.\n",
        "years_of_experience = np.array([1, 2, 3, 4, 5])"
      ]
    },
    {
      "cell_type": "markdown",
      "metadata": {
        "id": "4lIgGFhHAiD8"
      },
      "source": [
        "### Basic Operations\n",
        "\n",
        "Applying mathematics operations to the entire array."
      ]
    },
    {
      "cell_type": "markdown",
      "metadata": {
        "id": "bQ3rs6fpAiD8"
      },
      "source": [
        "#### Addition\n",
        "Adding 1 year to the experience requirements for each job listing."
      ]
    },
    {
      "cell_type": "code",
      "execution_count": null,
      "metadata": {
        "id": "UOKpukXkAiD8",
        "outputId": "c1d30099-9cff-4912-f33a-63c8744b4f72"
      },
      "outputs": [
        {
          "data": {
            "text/plain": [
              "array([2, 3, 4, 5, 6])"
            ]
          },
          "execution_count": 4,
          "metadata": {},
          "output_type": "execute_result"
        }
      ],
      "source": [
        "years_of_experience_plus_one = years_of_experience + 1\n",
        "years_of_experience_plus_one"
      ]
    },
    {
      "cell_type": "markdown",
      "metadata": {
        "id": "j2JwD8w_AiD9"
      },
      "source": [
        "#### Subtraction\n",
        "\n",
        "Subtracting 1 year from the experience requirements for each job listing."
      ]
    },
    {
      "cell_type": "code",
      "execution_count": null,
      "metadata": {
        "id": "aTBE5D0CAiD-",
        "outputId": "53b9419c-cb26-4b18-bff9-7e472b4954a3"
      },
      "outputs": [
        {
          "data": {
            "text/plain": [
              "array([0, 1, 2, 3, 4])"
            ]
          },
          "execution_count": 5,
          "metadata": {},
          "output_type": "execute_result"
        }
      ],
      "source": [
        "years_of_experience_minus_one = years_of_experience - 1\n",
        "years_of_experience_minus_one"
      ]
    },
    {
      "cell_type": "markdown",
      "metadata": {
        "id": "wae6jaZ5AiD-"
      },
      "source": [
        "#### Division\n",
        "\n",
        "Dividing the experience requirements by 2 (maybe for a junior role)."
      ]
    },
    {
      "cell_type": "code",
      "execution_count": null,
      "metadata": {
        "id": "rHxOKjejAiD-",
        "outputId": "28253972-844d-4ec5-abb4-55fe12f442a9"
      },
      "outputs": [
        {
          "data": {
            "text/plain": [
              "array([0.5, 1. , 1.5, 2. , 2.5])"
            ]
          },
          "execution_count": 6,
          "metadata": {},
          "output_type": "execute_result"
        }
      ],
      "source": [
        "years_of_experience_half = years_of_experience / 2\n",
        "years_of_experience_half"
      ]
    },
    {
      "cell_type": "markdown",
      "metadata": {
        "id": "FepaPGjFAiD-"
      },
      "source": [
        "#### Multiplication\n",
        "\n",
        "Doubling the experience requirements for each job listing."
      ]
    },
    {
      "cell_type": "code",
      "execution_count": null,
      "metadata": {
        "id": "oXlNunnvAiD_",
        "outputId": "1683b565-4ee9-4bdc-c810-3fddd341b105"
      },
      "outputs": [
        {
          "data": {
            "text/plain": [
              "array([ 2,  4,  6,  8, 10])"
            ]
          },
          "execution_count": 7,
          "metadata": {},
          "output_type": "execute_result"
        }
      ],
      "source": [
        "years_of_experience_double = years_of_experience * 2\n",
        "years_of_experience_double"
      ]
    },
    {
      "cell_type": "markdown",
      "metadata": {
        "id": "mpsX1nfNAiD_"
      },
      "source": [
        "### Slicing\n",
        "\n",
        "Get subset of information from the array. Let's get the experience requirements for the second and third job postings."
      ]
    },
    {
      "cell_type": "code",
      "execution_count": null,
      "metadata": {
        "id": "gs309z25AiD_",
        "outputId": "e10a9a3d-720d-4364-9a2a-486912452cf0"
      },
      "outputs": [
        {
          "data": {
            "text/plain": [
              "array([2, 3])"
            ]
          },
          "execution_count": 4,
          "metadata": {},
          "output_type": "execute_result"
        }
      ],
      "source": [
        "# Example: Selecting the experience requirement for the second and third job listings.\n",
        "second_and_third_jobs_experience = years_of_experience[1:3]\n",
        "second_and_third_jobs_experience"
      ]
    },
    {
      "cell_type": "markdown",
      "metadata": {
        "id": "TmB3rCpRAiD_"
      },
      "source": [
        "### Boolean Indexing\n",
        "\n",
        "Get items from the array that meet a specific condition. For this get only the job postings that require more than 2 years of experience."
      ]
    },
    {
      "cell_type": "code",
      "execution_count": null,
      "metadata": {
        "id": "AE0SKDP1AiEA",
        "outputId": "cdac163d-6d0d-4b05-b444-5477fbd0974e"
      },
      "outputs": [
        {
          "data": {
            "text/plain": [
              "array([3, 4, 5])"
            ]
          },
          "execution_count": 5,
          "metadata": {},
          "output_type": "execute_result"
        }
      ],
      "source": [
        "# Example: Selecting only those job listings that require more than 1 year of experience.\n",
        "jobs_with_more_than_one_year_exp = years_of_experience[years_of_experience > 2]\n",
        "jobs_with_more_than_one_year_exp"
      ]
    },
    {
      "cell_type": "markdown",
      "metadata": {
        "id": "jCmPO2FpKxLC"
      },
      "source": [
        "## Math Operations\n",
        "\n",
        "### Notes\n",
        "\n",
        "* Aggregate functions:\n",
        "    * `sum`: sum\n",
        "    * `prod`: product\n",
        "    * `cumsum`: cumulative sum\n",
        "    * `cumprod`: cumulative product\n",
        "* Mathematical operations (we won't be going into this during the course):\n",
        "    * `sqrt`\n",
        "    * `exp`\n",
        "    * `log`\n",
        "    * `sin`\n",
        "    * `cos`\n",
        "\n",
        "### Examples\n",
        "\n",
        "First lets create a list with 10 yearly salaries for a Senior Data Analyst job. We're just using a combination of the `random` library to get random integers between 100000 and 150000. Then using a `for` loop to get 10 (random) values."
      ]
    },
    {
      "cell_type": "code",
      "execution_count": null,
      "metadata": {
        "id": "ykZ57tUvAiEA"
      },
      "outputs": [],
      "source": [
        "import random\n",
        "\n",
        "salary = [random.randint(100000, 150000) for num in range(10)]"
      ]
    },
    {
      "cell_type": "code",
      "execution_count": null,
      "metadata": {
        "id": "dhbZYy6LAiEB",
        "outputId": "6b26189f-b359-4129-9fb9-bc0f9b722c5f"
      },
      "outputs": [
        {
          "data": {
            "text/plain": [
              "[111298,\n",
              " 110003,\n",
              " 103540,\n",
              " 116494,\n",
              " 120441,\n",
              " 149248,\n",
              " 107357,\n",
              " 141818,\n",
              " 102895,\n",
              " 139437]"
            ]
          },
          "execution_count": 7,
          "metadata": {},
          "output_type": "execute_result"
        }
      ],
      "source": [
        "salary"
      ]
    },
    {
      "cell_type": "markdown",
      "metadata": {
        "id": "58zKu5PXAiEB"
      },
      "source": [
        "Now we'll convert this list into a NumPy array."
      ]
    },
    {
      "cell_type": "code",
      "execution_count": null,
      "metadata": {
        "id": "X-MR8_8-AiEB",
        "outputId": "db6683ea-bd10-4f21-8118-818c696570b3"
      },
      "outputs": [
        {
          "data": {
            "text/plain": [
              "array([111298, 110003, 103540, 116494, 120441, 149248, 107357, 141818,\n",
              "       102895, 139437])"
            ]
          },
          "execution_count": 8,
          "metadata": {},
          "output_type": "execute_result"
        }
      ],
      "source": [
        "salary_array = np.array(salary)\n",
        "salary_array"
      ]
    },
    {
      "cell_type": "markdown",
      "metadata": {
        "id": "BxX_VWjQAiEB"
      },
      "source": [
        "### Sum\n",
        "\n",
        "Calculate the total sum of the elements in the `salary_array`."
      ]
    },
    {
      "cell_type": "code",
      "execution_count": null,
      "metadata": {
        "id": "lxkEFiNyAiEC",
        "outputId": "d18fc9e0-f173-4055-f024-9754e29c6ebf"
      },
      "outputs": [
        {
          "data": {
            "text/plain": [
              "1202531"
            ]
          },
          "execution_count": 9,
          "metadata": {},
          "output_type": "execute_result"
        }
      ],
      "source": [
        "total_sum_salaries = np.sum(salary_array)\n",
        "total_sum_salaries"
      ]
    },
    {
      "cell_type": "markdown",
      "metadata": {
        "id": "Kc89ZvzJAiEC"
      },
      "source": [
        "### Prod\n",
        "\n",
        "Calculate the product of the elements in the `salary_array`."
      ]
    },
    {
      "cell_type": "code",
      "execution_count": null,
      "metadata": {
        "id": "WutoJEMNAiEC",
        "outputId": "15bc6179-13ef-4b58-9628-0195a3b5c811"
      },
      "outputs": [
        {
          "data": {
            "text/plain": [
              "-2136956928"
            ]
          },
          "execution_count": 10,
          "metadata": {},
          "output_type": "execute_result"
        }
      ],
      "source": [
        "# This is a conceptual example since taking the product of a boolean series isn't common\n",
        "product_salaries = np.prod(salary_array)\n",
        "product_salaries"
      ]
    },
    {
      "cell_type": "markdown",
      "metadata": {
        "id": "qriJxZF5AiEC"
      },
      "source": [
        "### Cumsum (Cumulative Sum)\n",
        "\n",
        "Calculates the cumulative sum of elements of the `salary_array`. It calculates the cumulative sum at each index, meaning each element in the output array is the sum of all preceding elements including the current one from the original array.\n",
        "\n",
        "For the `salary_array`:\n",
        "\n",
        "* First element of cumsum is 110003 (just the first element)\n",
        "* Second element is 110003 + 133394 = 243397\n",
        "* Third element is 243397 + 148741 = 392138\n",
        "* And so on..."
      ]
    },
    {
      "cell_type": "code",
      "execution_count": null,
      "metadata": {
        "id": "loMIm2P2AiEC",
        "outputId": "9da7c2e0-7554-45b4-fc1c-43e0b66b500a"
      },
      "outputs": [
        {
          "data": {
            "text/plain": [
              "array([ 111298,  221301,  324841,  441335,  561776,  711024,  818381,\n",
              "        960199, 1063094, 1202531])"
            ]
          },
          "execution_count": 11,
          "metadata": {},
          "output_type": "execute_result"
        }
      ],
      "source": [
        "cumulative_sum_salaries = np.cumsum(salary_array)\n",
        "cumulative_sum_salaries"
      ]
    },
    {
      "cell_type": "markdown",
      "metadata": {
        "id": "jNk95UXmAiED"
      },
      "source": [
        "### Cumprod (Cumulative Product)\n",
        "\n",
        "Calculates the cumulative product of elements of the `salary_array`. It calculates the cumulative product at each index, meaning each element in the output array is the product of all preceding elements including the current one from the original array.\n",
        "\n",
        "For the `salary_array`:\n",
        "\n",
        "* First element of cumprod is 110003\n",
        "* Second element is 110003 * 133394\n",
        "* Third element is (110003 * 133394) * 148741\n",
        "* And so on..."
      ]
    },
    {
      "cell_type": "code",
      "execution_count": null,
      "metadata": {
        "id": "ZWrJY5PXAiEE",
        "outputId": "1c3160ba-97d7-4792-de98-bb6406fc0cfa"
      },
      "outputs": [
        {
          "data": {
            "text/plain": [
              "array([     111298,  -641787994,  1005104952,  -702145264,   828316816,\n",
              "       -1710493696, -2144980992, -1560616960,   555163648, -2136956928])"
            ]
          },
          "execution_count": 12,
          "metadata": {},
          "output_type": "execute_result"
        }
      ],
      "source": [
        "# Cumulative product of 'job_no_degree_mention' column (conceptual example)\n",
        "cumulative_prod_salaries = np.cumprod(salary_array)\n",
        "cumulative_prod_salaries"
      ]
    },
    {
      "cell_type": "markdown",
      "metadata": {
        "id": "5OF7hokyAiEG"
      },
      "source": [
        "**Note**: Due to the large numbers, the cumulative product values quickly escalate to the point where they exceed the numerical limit for typical data types in Python, leading to integer overflow. This is why some numbers appear as negative."
      ]
    },
    {
      "cell_type": "markdown",
      "metadata": {
        "id": "75hqgHJ7Kyqj"
      },
      "source": [
        "## Statistics Operations\n",
        "\n",
        "### Notes\n",
        "\n",
        "A lot of these you can also use Pandas because Pandas is built on top of NumPy. So here's a few examples but we won't be diving deep into them.\n",
        "\n",
        "* `mean`\n",
        "* `median`\n",
        "* `var`: variance\n",
        "* `std`: standard deviation\n",
        "* `min`\n",
        "* `max`"
      ]
    },
    {
      "cell_type": "markdown",
      "metadata": {
        "id": "Di3SxfK_AiEH"
      },
      "source": [
        "### Mean\n",
        "\n",
        "Calculate the average salary in the `salary_array`."
      ]
    },
    {
      "cell_type": "code",
      "execution_count": null,
      "metadata": {
        "id": "wWNv1B_JAiEJ",
        "outputId": "39f6408b-026c-4af8-f0cb-23689baf75cc"
      },
      "outputs": [
        {
          "data": {
            "text/plain": [
              "120253.1"
            ]
          },
          "execution_count": 13,
          "metadata": {},
          "output_type": "execute_result"
        }
      ],
      "source": [
        "average_salary = np.mean(salary_array)\n",
        "average_salary"
      ]
    },
    {
      "cell_type": "markdown",
      "metadata": {
        "id": "ibmerCHGAiEK"
      },
      "source": [
        "### Median\n",
        "\n",
        "Find the median salary in the `salary_array`."
      ]
    },
    {
      "cell_type": "code",
      "execution_count": null,
      "metadata": {
        "id": "CFGJiX8fAiEP",
        "outputId": "b283aeaa-7ef2-456e-ae63-5fde941315e3"
      },
      "outputs": [
        {
          "data": {
            "text/plain": [
              "113896.0"
            ]
          },
          "execution_count": 14,
          "metadata": {},
          "output_type": "execute_result"
        }
      ],
      "source": [
        "median_salary = np.median(salary_array)\n",
        "median_salary"
      ]
    },
    {
      "cell_type": "markdown",
      "metadata": {
        "id": "16qphqyYAiEQ"
      },
      "source": [
        "### Var\n",
        "\n",
        "Calculate the variance of the `salary_array`."
      ]
    },
    {
      "cell_type": "code",
      "execution_count": null,
      "metadata": {
        "id": "JQ40c3sRAiEQ",
        "outputId": "7586af33-b1f6-4e51-aed1-46b59aa47e00"
      },
      "outputs": [
        {
          "data": {
            "text/plain": [
              "291126267.21111107"
            ]
          },
          "execution_count": 15,
          "metadata": {},
          "output_type": "execute_result"
        }
      ],
      "source": [
        "salary_variance = np.var(salary_array, ddof=1)  # ddof=1 for sample variance\n",
        "salary_variance"
      ]
    },
    {
      "cell_type": "markdown",
      "metadata": {
        "id": "IziS12LAAiER"
      },
      "source": [
        "### Std\n",
        "\n",
        "Calculate the standard deviation of the `salary_array`."
      ]
    },
    {
      "cell_type": "code",
      "execution_count": null,
      "metadata": {
        "id": "Zy6bRMt-AiER",
        "outputId": "82577c7d-7fa8-453d-c04e-86b30520f3f2"
      },
      "outputs": [
        {
          "data": {
            "text/plain": [
              "17062.42266535181"
            ]
          },
          "execution_count": 16,
          "metadata": {},
          "output_type": "execute_result"
        }
      ],
      "source": [
        "# Standard deviation of 'salary_year_avg' column\n",
        "salary_std_dev = np.std(salary_array, ddof=1)  # ddof=1 for sample standard deviation\n",
        "salary_std_dev"
      ]
    },
    {
      "cell_type": "markdown",
      "metadata": {
        "id": "ifnZ5k4BAiER"
      },
      "source": [
        "### Min\n",
        "\n",
        "Find the minimum element in the `salary_array`."
      ]
    },
    {
      "cell_type": "code",
      "execution_count": null,
      "metadata": {
        "id": "FvL5YEqEAiES",
        "outputId": "e6dbd78a-7a43-4eda-9025-70d7410d11e8"
      },
      "outputs": [
        {
          "data": {
            "text/plain": [
              "102895"
            ]
          },
          "execution_count": 17,
          "metadata": {},
          "output_type": "execute_result"
        }
      ],
      "source": [
        "# Minimum of 'salary_year_avg' column\n",
        "min_salary = np.min(salary_array)\n",
        "min_salary"
      ]
    },
    {
      "cell_type": "markdown",
      "metadata": {
        "id": "_vlfpyYfAiES"
      },
      "source": [
        "### Max\n",
        "\n",
        "Find the maximum element in the `salary_array`."
      ]
    },
    {
      "cell_type": "code",
      "execution_count": null,
      "metadata": {
        "id": "nSSrPgnvAiES",
        "outputId": "3270fb90-84ad-4c33-b282-a65768da9855"
      },
      "outputs": [
        {
          "data": {
            "text/plain": [
              "149248"
            ]
          },
          "execution_count": 18,
          "metadata": {},
          "output_type": "execute_result"
        }
      ],
      "source": [
        "# Maximum of 'salary_year_avg' column\n",
        "max_salary = np.max(salary_array)\n",
        "max_salary"
      ]
    },
    {
      "cell_type": "markdown",
      "metadata": {
        "id": "tvAgsRdkK0zi"
      },
      "source": [
        "## NaN\n",
        "\n",
        "\n",
        "### Notes\n",
        "\n",
        "* Generate NaN values using `np.nan`\n",
        "* `np.nan` value is used in NumPy (and by extension, Pandas) to represent missing or undefined data\n",
        "* Helpful because it:\n",
        "    * Handles missing data.\n",
        "    * Helps with computations since it won't return errors but instead return `np.nan`.\n",
        "    * Help filter out or fill in missing data using other methods that we'll use often in the `pandas` library like `dropna()`, `fillna()`, `isna()`, or `notna()`.\n",
        "\n",
        "### Examples\n",
        "\n",
        "Below are a few examples of what you can do."
      ]
    },
    {
      "cell_type": "markdown",
      "metadata": {
        "id": "4WyRWsMQAiES"
      },
      "source": [
        "#### Insert Missing Values\n",
        "\n",
        "If you want to insert missing values into your array intentionally, perhaps to indicate that data is expected but not yet available. You use `np.nan`."
      ]
    },
    {
      "cell_type": "code",
      "execution_count": null,
      "metadata": {
        "id": "CsYAJzSaAiET",
        "outputId": "d8dcd59a-8163-4f34-a30c-c6a03c1d3849"
      },
      "outputs": [
        {
          "data": {
            "text/plain": [
              "array([123124.,     nan, 145000., 128000., 110000., 149999.,     nan,\n",
              "       135000., 115000., 140000.])"
            ]
          },
          "execution_count": 19,
          "metadata": {},
          "output_type": "execute_result"
        }
      ],
      "source": [
        "salary_with_nan = np.array([123124, np.nan, 145000, 128000, 110000, 149999, np.nan, 135000, 115000, 140000], dtype=float)\n",
        "salary_with_nan"
      ]
    },
    {
      "cell_type": "markdown",
      "metadata": {
        "id": "KrwA_x1bAiET"
      },
      "source": [
        "#### Replace Values with NaN\n",
        "\n",
        "If you want to replace existing values with `np.nan`, for example, if certain values are considered invalid or outliers:"
      ]
    },
    {
      "cell_type": "code",
      "execution_count": null,
      "metadata": {
        "id": "83c16v_ZAiET",
        "outputId": "9839bd27-f2c5-4524-8df5-55cfc562ae4b"
      },
      "outputs": [
        {
          "data": {
            "text/plain": [
              "array([    nan,     nan, 145000.,     nan,     nan, 149999.,     nan,\n",
              "       135000.,     nan, 140000.])"
            ]
          },
          "execution_count": 20,
          "metadata": {},
          "output_type": "execute_result"
        }
      ],
      "source": [
        "salary_with_nan[salary_with_nan < 130000] = np.nan\n",
        "salary_with_nan"
      ]
    },
    {
      "cell_type": "markdown",
      "metadata": {
        "id": "ucnf2lccAiET"
      },
      "source": [
        "## Where\n",
        "\n",
        "### Notes\n",
        "\n",
        "* `np.where` check elements of an array against a condition and to assign a value for True and another for false.\n",
        "* Syntax: `np.where(condition)`.\n",
        "* It's commonly used to conditionally replace array elements.\n",
        "\n",
        "### Example\n",
        "\n",
        "We're going to replace all values in `salary_array` that are less than 120,000 with 120,000 (to apply a minimum salary threshold). We'll use this syntax for it: `np.where(condition, x, y)`. With a `condition` and if it's true we do `x` and if not then do `y`."
      ]
    },
    {
      "cell_type": "code",
      "execution_count": null,
      "metadata": {
        "id": "tqVcPDwEAiEV",
        "outputId": "a5f0dc85-a0d1-46a6-d6bf-d441749db97c"
      },
      "outputs": [
        {
          "data": {
            "text/plain": [
              "array([120000, 120000, 120000, 120000, 120441, 149248, 120000, 141818,\n",
              "       120000, 139437])"
            ]
          },
          "execution_count": 21,
          "metadata": {},
          "output_type": "execute_result"
        }
      ],
      "source": [
        "# Replace values using np.where\n",
        "salary_array = np.where(salary_array < 120000, 120000, salary_array)\n",
        "salary_array"
      ]
    },
    {
      "cell_type": "markdown",
      "metadata": {
        "id": "TEk2h9GDAiEX"
      },
      "source": [
        "## Random Sampling\n",
        "\n",
        "### Notes\n",
        "* Generate a random numbers or samples.\n",
        "* `np.random.normal` - draws random samples from a normal (Gaussian) distribution.\n",
        "    * Specify the Arguments:\n",
        "        * `loc`: This is the mean (`μ`) of the normal distribution.\n",
        "        * `scale`: This is the standard deviation (`σ`) of the normal distribution, representing the dispersion from the mean.\n",
        "        * `size`: This defines the number of random samples to draw, which is set to match the number of job postings.\n",
        "    * Syntax: `np.random.normal(loc=0.0, scale=1.0, size=None)`\n",
        "* A few other random sampling functions:\n",
        "    * `np.random.rand`\n",
        "    * `np.random.randn`\n",
        "    * `np.random.randint`\n",
        "    * `np.random.random`\n",
        "    * `np.random.uniform`\n",
        "    * `np.random.binomial`\n",
        "    * `np.random.poisson`\n",
        "\n",
        "### Example\n",
        "\n",
        "Let's add some random noise to the `salary_array` to simulate salary variations. We can generate random values from a normal distribution with a mean of 0 and a standard deviation of 5000, then add these values to the salaries.\n",
        "\n",
        "**Why?** This can be used to simulate salary data for job postings if actual salary data isn't available, for instance, in modeling or simulation scenarios."
      ]
    },
    {
      "cell_type": "code",
      "execution_count": null,
      "metadata": {
        "id": "w7KQJZu5AiEa",
        "outputId": "217e3127-fa8a-4662-861d-ebec151299a5"
      },
      "outputs": [
        {
          "data": {
            "text/plain": [
              "array([124219.08195846, 131116.06759323, 119455.49265214, 122182.62053755,\n",
              "       118818.2917239 , 151255.86681034, 130457.25819974, 143396.35776544,\n",
              "       120961.92775885, 130976.31025803])"
            ]
          },
          "execution_count": 22,
          "metadata": {},
          "output_type": "execute_result"
        }
      ],
      "source": [
        "# Generate numbers based on normal distribution\n",
        "noise = np.random.normal(0, 5000, salary_array.size)\n",
        "# Add these numbers to the salary_array\n",
        "salary_array_with_noise = salary_array + noise\n",
        "salary_array_with_noise"
      ]
    }
  ],
  "metadata": {
    "colab": {
      "provenance": []
    },
    "kernelspec": {
      "display_name": "Python 3",
      "name": "python3"
    },
    "language_info": {
      "codemirror_mode": {
        "name": "ipython",
        "version": 3
      },
      "file_extension": ".py",
      "mimetype": "text/x-python",
      "name": "python",
      "nbconvert_exporter": "python",
      "pygments_lexer": "ipython3",
      "version": "3.11.9"
    }
  },
  "nbformat": 4,
  "nbformat_minor": 0
}