{
  "cells": [
    {
      "cell_type": "markdown",
      "metadata": {
        "id": "e1051e8f"
      },
      "source": [
        "<a target=\"_blank\" href=\"https://colab.research.google.com/github/lukebarousse/Python_Data_Analytics_Course/blob/main/1_Basics/15_Exercise_Basics.ipynb\">\n",
        "  <img src=\"https://colab.research.google.com/assets/colab-badge.svg\" alt=\"Open In Colab\"/>\n",
        "</a>"
      ]
    },
    {
      "cell_type": "markdown",
      "metadata": {
        "id": "eTqSYLEvmoO9"
      },
      "source": [
        "## Exercise - Basics"
      ]
    },
    {
      "cell_type": "markdown",
      "metadata": {
        "id": "FSsUleT9rtpI"
      },
      "source": [
        "## Topics Covered\n",
        "\n",
        "This exercise goes over:\n",
        "\n",
        "* Variables\n",
        "* Operators\n",
        "* Conditional Statements\n",
        "* Lists\n",
        "* Dictionaries\n",
        "* Loops\n",
        "\n",
        "## Question\n",
        "\n",
        "Write a Python script to find out what jobs you are qualified based on a set of skills. The script will evaluate a list of job roles, each associated with its own set of required skills, against the skills you have. Determine which roles you're potentially qualified for and print out these roles. If there are no roles that match your skills, print a message saying there are no matching job roles based on the provided skills.\n",
        "\n",
        "We have some pre-defined variables that you will be using:\n",
        "\n",
        "1. `job_roles`: list of dictionaries, where each dictionary represents a different job role within data science. Each dictionary has the key-value pairs:\n",
        "    * `role`: Name of the job role\n",
        "    * `skills`: A list of strings, each representing a skill required for the job\n",
        "2. `my_skills`: A list of strings, representing the skills you have"
      ]
    },
    {
      "cell_type": "code",
      "execution_count": null,
      "metadata": {
        "id": "yFaMv1LMrtpJ"
      },
      "outputs": [],
      "source": [
        "# Define data science job roles and required skills\n",
        "job_roles = [\n",
        "    {'role': 'Data Analyst', 'skills': ['Python', 'SQL', 'Excel']},\n",
        "    {'role': 'Data Scientist', 'skills': ['Python', 'R', 'Machine Learning', 'Deep Learning']},\n",
        "    {'role': 'Machine Learning Engineer', 'skills': ['Python', 'TensorFlow', 'PyTorch', 'Scikit-Learn']},\n",
        "    {'role': 'Data Engineer', 'skills': ['Python', 'Apache Spark', 'Hadoop', 'SQL']},\n",
        "    {'role': 'Business Intelligence Analyst', 'skills': ['Python', 'SQL', 'Tableau', 'Power BI', 'Excel']},\n",
        "    {'role': 'Quantitative Analyst', 'skills': ['R', 'Python', 'MATLAB', 'Statistics']},\n",
        "    {'role': 'Operations Analyst', 'skills': ['Python', 'SQL', 'Data Visualization', 'Process Improvement']},\n",
        "    {'role': 'Database Administrator', 'skills': ['SQL', 'Oracle', 'MySQL', 'Database Management']},\n",
        "    {'role': 'AI Engineer', 'skills': ['Python', 'TensorFlow', 'PyTorch', 'Computer Vision']},\n",
        "    {'role': 'Statistician', 'skills': ['R', 'SAS', 'Python', 'Statistical Modeling']}\n",
        "]\n",
        "# My skills\n",
        "my_skills = ['Python', 'SQL', 'Excel']"
      ]
    },
    {
      "cell_type": "code",
      "source": [
        "# Define data science job roles and required skills\n",
        "job_roles = [\n",
        "    {'role': 'Data Analyst', 'skills': ['Python', 'SQL', 'Excel']},\n",
        "    {'role': 'Data Scientist', 'skills': ['Python', 'R', 'Machine Learning', 'Deep Learning']},\n",
        "    {'role': 'Machine Learning Engineer', 'skills': ['Python', 'TensorFlow', 'PyTorch', 'Scikit-Learn']},\n",
        "    {'role': 'Data Engineer', 'skills': ['Python', 'Apache Spark', 'Hadoop', 'SQL']},\n",
        "    {'role': 'Business Intelligence Analyst', 'skills': ['Python', 'SQL', 'Tableau', 'Power BI', 'Excel']},\n",
        "    {'role': 'Quantitative Analyst', 'skills': ['R', 'Python', 'MATLAB', 'Statistics']},\n",
        "    {'role': 'Operations Analyst', 'skills': ['Python', 'SQL', 'Data Visualization', 'Process Improvement']},\n",
        "    {'role': 'Database Administrator', 'skills': ['SQL', 'Oracle', 'MySQL', 'Database Management']},\n",
        "    {'role': 'AI Engineer', 'skills': ['Python', 'TensorFlow', 'PyTorch', 'Computer Vision']},\n",
        "    {'role': 'Statistician', 'skills': ['R', 'SAS', 'Python', 'Statistical Modeling']}\n",
        "]\n",
        "\n",
        "for job in job_roles:\n",
        "    print(job['skills'])"
      ],
      "metadata": {
        "colab": {
          "base_uri": "https://localhost:8080/"
        },
        "id": "gTpEN5hnvn4W",
        "outputId": "c3881eec-f6ff-4317-f20a-e32752bbe3f1"
      },
      "execution_count": 3,
      "outputs": [
        {
          "output_type": "stream",
          "name": "stdout",
          "text": [
            "['Python', 'SQL', 'Excel']\n",
            "['Python', 'R', 'Machine Learning', 'Deep Learning']\n",
            "['Python', 'TensorFlow', 'PyTorch', 'Scikit-Learn']\n",
            "['Python', 'Apache Spark', 'Hadoop', 'SQL']\n",
            "['Python', 'SQL', 'Tableau', 'Power BI', 'Excel']\n",
            "['R', 'Python', 'MATLAB', 'Statistics']\n",
            "['Python', 'SQL', 'Data Visualization', 'Process Improvement']\n",
            "['SQL', 'Oracle', 'MySQL', 'Database Management']\n",
            "['Python', 'TensorFlow', 'PyTorch', 'Computer Vision']\n",
            "['R', 'SAS', 'Python', 'Statistical Modeling']\n"
          ]
        }
      ]
    },
    {
      "cell_type": "code",
      "source": [
        "job_roles = [\n",
        "    {'role': 'Data Analyst', 'skills': ['Python', 'SQL', 'Excel']},\n",
        "    {'role': 'Data Scientist', 'skills': ['Python', 'R', 'Machine Learning', 'Deep Learning']},\n",
        "    {'role': 'Machine Learning Engineer', 'skills': ['Python', 'TensorFlow', 'PyTorch', 'Scikit-Learn']},\n",
        "    {'role': 'Data Engineer', 'skills': ['Python', 'Apache Spark', 'Hadoop', 'SQL']},\n",
        "    {'role': 'Business Intelligence Analyst', 'skills': ['Python', 'SQL', 'Tableau', 'Power BI', 'Excel']},\n",
        "    {'role': 'Quantitative Analyst', 'skills': ['R', 'Python', 'MATLAB', 'Statistics']},\n",
        "    {'role': 'Operations Analyst', 'skills': ['Python', 'SQL', 'Data Visualization', 'Process Improvement']},\n",
        "    {'role': 'Database Administrator', 'skills': ['SQL', 'Oracle', 'MySQL', 'Database Management']},\n",
        "    {'role': 'AI Engineer', 'skills': ['Python', 'TensorFlow', 'PyTorch', 'Computer Vision']},\n",
        "    {'role': 'Statistician', 'skills': ['R', 'SAS', 'Python', 'Statistical Modeling']}\n",
        "]\n",
        "my_skills = ['Python', 'SQL', 'Excel']\n",
        "for job in job_roles:\n",
        "  for skill in my_skills:\n",
        "    if skill in job['skills']:\n",
        "      print(skill)\n",
        "      print(job['skills'])\n",
        ""
      ],
      "metadata": {
        "id": "zmvKuZVkwj06",
        "outputId": "44032f4d-4f70-4cfa-f2c5-5246bc53e71b",
        "colab": {
          "base_uri": "https://localhost:8080/"
        }
      },
      "execution_count": 9,
      "outputs": [
        {
          "output_type": "stream",
          "name": "stdout",
          "text": [
            "Python\n",
            "['Python', 'SQL', 'Excel']\n",
            "SQL\n",
            "['Python', 'SQL', 'Excel']\n",
            "Excel\n",
            "['Python', 'SQL', 'Excel']\n",
            "Python\n",
            "['Python', 'R', 'Machine Learning', 'Deep Learning']\n",
            "Python\n",
            "['Python', 'TensorFlow', 'PyTorch', 'Scikit-Learn']\n",
            "Python\n",
            "['Python', 'Apache Spark', 'Hadoop', 'SQL']\n",
            "SQL\n",
            "['Python', 'Apache Spark', 'Hadoop', 'SQL']\n",
            "Python\n",
            "['Python', 'SQL', 'Tableau', 'Power BI', 'Excel']\n",
            "SQL\n",
            "['Python', 'SQL', 'Tableau', 'Power BI', 'Excel']\n",
            "Excel\n",
            "['Python', 'SQL', 'Tableau', 'Power BI', 'Excel']\n",
            "Python\n",
            "['R', 'Python', 'MATLAB', 'Statistics']\n",
            "Python\n",
            "['Python', 'SQL', 'Data Visualization', 'Process Improvement']\n",
            "SQL\n",
            "['Python', 'SQL', 'Data Visualization', 'Process Improvement']\n",
            "SQL\n",
            "['SQL', 'Oracle', 'MySQL', 'Database Management']\n",
            "Python\n",
            "['Python', 'TensorFlow', 'PyTorch', 'Computer Vision']\n",
            "Python\n",
            "['R', 'SAS', 'Python', 'Statistical Modeling']\n"
          ]
        }
      ]
    },
    {
      "cell_type": "markdown",
      "metadata": {
        "id": "C3gjUtDnrtpL"
      },
      "source": [
        "**Step 1**: Iterate through each job role in `job_roles` and determine whether or not you have the required skills. Get the roles you are qualified for in a list.\n",
        "\n",
        "**Notes**:\n",
        "* Create an empty list where we will put the roles we qualify for `qualified_roles`.\n",
        "* Use a `for` loop to go through the jobs.\n",
        "* Nested `for` loop to look through the skills for each role.\n",
        "* An `if` statement checks if the skill in the role is in the list of skills provided.\n",
        "* If it's true then add that role to the `qualified_roles` list we created."
      ]
    },
    {
      "cell_type": "code",
      "execution_count": 16,
      "metadata": {
        "colab": {
          "base_uri": "https://localhost:8080/"
        },
        "id": "HyX5c5V1rtpM",
        "outputId": "881aba2d-5e22-419e-cfff-9298a55d802c"
      },
      "outputs": [
        {
          "output_type": "execute_result",
          "data": {
            "text/plain": [
              "['Data Analyst', 'Business Intelligence Analyst']"
            ]
          },
          "metadata": {},
          "execution_count": 16
        }
      ],
      "source": [
        "# Determine which jobs you're qualified for\n",
        "qualified_roles = []\n",
        "\n",
        "for job in job_roles:\n",
        "    # Initialize qualified flag\n",
        "    qualified = True\n",
        "    # Go through each skill in the skills key\n",
        "    for skill in my_skills:\n",
        "        if skill not in job['skills']:\n",
        "            qualified = False\n",
        "            break\n",
        "    if qualified:\n",
        "        # Add the job dictionary to the qualified_jobs list\n",
        "        qualified_roles.append(job['role'])\n",
        "\n",
        "qualified_roles"
      ]
    },
    {
      "cell_type": "code",
      "source": [
        "for job in job_roles:\n",
        "    qualified\t= True\n",
        "    for skill in my_skills:\n",
        "        if skill not in job['skills']:\n",
        "            qualified = False\n",
        "            print(qualified)\n",
        "            print(skill)\n",
        "            print(job['skills'])\n",
        ""
      ],
      "metadata": {
        "id": "kcYem_CgxlyJ",
        "outputId": "2ced1864-3cf0-407e-fd3d-24b43b285607",
        "colab": {
          "base_uri": "https://localhost:8080/"
        }
      },
      "execution_count": 12,
      "outputs": [
        {
          "output_type": "stream",
          "name": "stdout",
          "text": [
            "False\n",
            "SQL\n",
            "['Python', 'R', 'Machine Learning', 'Deep Learning']\n",
            "False\n",
            "Excel\n",
            "['Python', 'R', 'Machine Learning', 'Deep Learning']\n",
            "False\n",
            "SQL\n",
            "['Python', 'TensorFlow', 'PyTorch', 'Scikit-Learn']\n",
            "False\n",
            "Excel\n",
            "['Python', 'TensorFlow', 'PyTorch', 'Scikit-Learn']\n",
            "False\n",
            "Excel\n",
            "['Python', 'Apache Spark', 'Hadoop', 'SQL']\n",
            "False\n",
            "SQL\n",
            "['R', 'Python', 'MATLAB', 'Statistics']\n",
            "False\n",
            "Excel\n",
            "['R', 'Python', 'MATLAB', 'Statistics']\n",
            "False\n",
            "Excel\n",
            "['Python', 'SQL', 'Data Visualization', 'Process Improvement']\n",
            "False\n",
            "Python\n",
            "['SQL', 'Oracle', 'MySQL', 'Database Management']\n",
            "False\n",
            "Excel\n",
            "['SQL', 'Oracle', 'MySQL', 'Database Management']\n",
            "False\n",
            "SQL\n",
            "['Python', 'TensorFlow', 'PyTorch', 'Computer Vision']\n",
            "False\n",
            "Excel\n",
            "['Python', 'TensorFlow', 'PyTorch', 'Computer Vision']\n",
            "False\n",
            "SQL\n",
            "['R', 'SAS', 'Python', 'Statistical Modeling']\n",
            "False\n",
            "Excel\n",
            "['R', 'SAS', 'Python', 'Statistical Modeling']\n"
          ]
        }
      ]
    },
    {
      "cell_type": "code",
      "source": [
        "for job in job_roles:\n",
        "    qualified\t= True\n",
        "    for skill in my_skills:\n",
        "        if skill not in job['skills']:\n",
        "            qualified = False\n",
        "            print(qualified)\n",
        "            print(skill)\n",
        "            print(job['skills'])\n",
        "            break  #eliminate the repetitive value lines or lists"
      ],
      "metadata": {
        "id": "QBdEvoIcy8Qo",
        "outputId": "6d9dc72f-a5d9-4f8e-bf9c-c7a66b8ce8cf",
        "colab": {
          "base_uri": "https://localhost:8080/"
        }
      },
      "execution_count": 13,
      "outputs": [
        {
          "output_type": "stream",
          "name": "stdout",
          "text": [
            "False\n",
            "SQL\n",
            "['Python', 'R', 'Machine Learning', 'Deep Learning']\n",
            "False\n",
            "SQL\n",
            "['Python', 'TensorFlow', 'PyTorch', 'Scikit-Learn']\n",
            "False\n",
            "Excel\n",
            "['Python', 'Apache Spark', 'Hadoop', 'SQL']\n",
            "False\n",
            "SQL\n",
            "['R', 'Python', 'MATLAB', 'Statistics']\n",
            "False\n",
            "Excel\n",
            "['Python', 'SQL', 'Data Visualization', 'Process Improvement']\n",
            "False\n",
            "Python\n",
            "['SQL', 'Oracle', 'MySQL', 'Database Management']\n",
            "False\n",
            "SQL\n",
            "['Python', 'TensorFlow', 'PyTorch', 'Computer Vision']\n",
            "False\n",
            "SQL\n",
            "['R', 'SAS', 'Python', 'Statistical Modeling']\n"
          ]
        }
      ]
    },
    {
      "cell_type": "markdown",
      "metadata": {
        "id": "H_tFCIs3rtpR"
      },
      "source": [
        "Technically you can write this more succinctly using the `all()` function."
      ]
    },
    {
      "cell_type": "code",
      "source": [
        "for job in job_roles:\n",
        "    qualified\t= True\n",
        "\n",
        "    for skill in my_skills:\n",
        "        if skill not in job['skills']:\n",
        "            qualified = False\n",
        "            break  #eliminate the repetitive value lines or lists\n",
        "        if qualified:\n",
        "          print(job)\n"
      ],
      "metadata": {
        "id": "ZajARoBwzehm",
        "outputId": "f45ddae9-c0b6-4c53-ff67-3eea790d50ee",
        "colab": {
          "base_uri": "https://localhost:8080/"
        }
      },
      "execution_count": 15,
      "outputs": [
        {
          "output_type": "stream",
          "name": "stdout",
          "text": [
            "{'role': 'Data Analyst', 'skills': ['Python', 'SQL', 'Excel']}\n",
            "{'role': 'Data Analyst', 'skills': ['Python', 'SQL', 'Excel']}\n",
            "{'role': 'Data Analyst', 'skills': ['Python', 'SQL', 'Excel']}\n",
            "{'role': 'Data Scientist', 'skills': ['Python', 'R', 'Machine Learning', 'Deep Learning']}\n",
            "{'role': 'Machine Learning Engineer', 'skills': ['Python', 'TensorFlow', 'PyTorch', 'Scikit-Learn']}\n",
            "{'role': 'Data Engineer', 'skills': ['Python', 'Apache Spark', 'Hadoop', 'SQL']}\n",
            "{'role': 'Data Engineer', 'skills': ['Python', 'Apache Spark', 'Hadoop', 'SQL']}\n",
            "{'role': 'Business Intelligence Analyst', 'skills': ['Python', 'SQL', 'Tableau', 'Power BI', 'Excel']}\n",
            "{'role': 'Business Intelligence Analyst', 'skills': ['Python', 'SQL', 'Tableau', 'Power BI', 'Excel']}\n",
            "{'role': 'Business Intelligence Analyst', 'skills': ['Python', 'SQL', 'Tableau', 'Power BI', 'Excel']}\n",
            "{'role': 'Quantitative Analyst', 'skills': ['R', 'Python', 'MATLAB', 'Statistics']}\n",
            "{'role': 'Operations Analyst', 'skills': ['Python', 'SQL', 'Data Visualization', 'Process Improvement']}\n",
            "{'role': 'Operations Analyst', 'skills': ['Python', 'SQL', 'Data Visualization', 'Process Improvement']}\n",
            "{'role': 'AI Engineer', 'skills': ['Python', 'TensorFlow', 'PyTorch', 'Computer Vision']}\n",
            "{'role': 'Statistician', 'skills': ['R', 'SAS', 'Python', 'Statistical Modeling']}\n"
          ]
        }
      ]
    },
    {
      "cell_type": "code",
      "execution_count": null,
      "metadata": {
        "colab": {
          "base_uri": "https://localhost:8080/"
        },
        "id": "_F6xhXQUiNX-",
        "outputId": "65dcc832-2e0a-4e87-cd80-ae65d187726d"
      },
      "outputs": [
        {
          "data": {
            "text/plain": [
              "['Data Analyst', 'Business Intelligence Analyst']"
            ]
          },
          "execution_count": 3,
          "metadata": {},
          "output_type": "execute_result"
        }
      ],
      "source": [
        "# Determine which jobs you're qualified for\n",
        "qualified_roles = []\n",
        "\n",
        "for job in job_roles:\n",
        "    # Check if all required skills are in my_skills\n",
        "    if all(skill in job['skills'] for skill in my_skills):\n",
        "        # Add the job role to the qualified_roles list\n",
        "        qualified_roles.append(job['role'])\n",
        "\n",
        "qualified_roles"
      ]
    },
    {
      "cell_type": "markdown",
      "metadata": {
        "id": "A5piSQwbrtpU"
      },
      "source": [
        "**Step 2**: Print out the names of the roles you're potentially qualified for in a `print()` statement.\n",
        "\n",
        "**Notes**:\n",
        "* If the `qualified_roles` list is not empty (aka we have roles we're qualified for):\n",
        "    * Print the roles I'm qualified as a string using `.join` method\n",
        "* If the list is empty (meaning we don't qualify for any roles):\n",
        "    * Print that there's no matching job roles for my skills."
      ]
    },
    {
      "cell_type": "code",
      "execution_count": null,
      "metadata": {
        "id": "hrMZ4e2trtpV",
        "outputId": "6ed14b83-2228-419a-8de5-ddc94c9f55f7"
      },
      "outputs": [
        {
          "name": "stdout",
          "output_type": "stream",
          "text": [
            "Qualified for the following roles: Data Analyst, Business Intelligence Analyst\n"
          ]
        }
      ],
      "source": [
        "# Output qualified job roles\n",
        "if qualified_roles:\n",
        "    output_message = 'Qualified for the following roles: ' + ', '.join(qualified_roles)\n",
        "    print(output_message)\n",
        "else:\n",
        "    print('There are no matching job roles for my skills.')"
      ]
    },
    {
      "cell_type": "markdown",
      "metadata": {
        "id": "CJb8lTJxrtpW"
      },
      "source": [
        "## List Comprehension Solution\n",
        "\n",
        "Note: This solution above can be solved with list comprehension.\n",
        "\n",
        "However, for newer programmers it's sometimes harder to wrap your head around list comprehension.\n",
        "\n",
        "Because of this I suggest writing out your code in for loops and THEN consider shifting to list comprehension."
      ]
    },
    {
      "cell_type": "code",
      "execution_count": null,
      "metadata": {
        "id": "uoL899WSrtpW",
        "outputId": "c3693ef5-3b8b-4f6c-d0f5-91ecb5b09eee"
      },
      "outputs": [
        {
          "name": "stdout",
          "output_type": "stream",
          "text": [
            "Qualified for the following roles:  Data Analyst\n"
          ]
        }
      ],
      "source": [
        "qualified_roles = [job['role'] for job in job_roles if all(skill in my_skills for skill in job['skills'])]\n",
        "\n",
        "print('Qualified for the following roles: ', ', '.join(qualified_roles))"
      ]
    }
  ],
  "metadata": {
    "colab": {
      "provenance": []
    },
    "kernelspec": {
      "display_name": "Python 3",
      "name": "python3"
    },
    "language_info": {
      "codemirror_mode": {
        "name": "ipython",
        "version": 3
      },
      "file_extension": ".py",
      "mimetype": "text/x-python",
      "name": "python",
      "nbconvert_exporter": "python",
      "pygments_lexer": "ipython3",
      "version": "3.11.9"
    }
  },
  "nbformat": 4,
  "nbformat_minor": 0
}